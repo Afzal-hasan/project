{
 "cells": [
  {
   "cell_type": "markdown",
   "id": "e0303451",
   "metadata": {},
   "source": [
    "# Case_Study_Pandas_DataFrame_Manipulations."
   ]
  },
  {
   "cell_type": "code",
   "execution_count": 1,
   "id": "1e3c57d5",
   "metadata": {},
   "outputs": [],
   "source": [
    "import numpy as np\n",
    "import pandas as pd\n",
    "\n",
    "import matplotlib.pyplot as plt\n",
    "import seaborn as sns"
   ]
  },
  {
   "cell_type": "code",
   "execution_count": 3,
   "id": "14f46076",
   "metadata": {},
   "outputs": [
    {
     "data": {
      "text/html": [
       "<div>\n",
       "<style scoped>\n",
       "    .dataframe tbody tr th:only-of-type {\n",
       "        vertical-align: middle;\n",
       "    }\n",
       "\n",
       "    .dataframe tbody tr th {\n",
       "        vertical-align: top;\n",
       "    }\n",
       "\n",
       "    .dataframe thead th {\n",
       "        text-align: right;\n",
       "    }\n",
       "</style>\n",
       "<table border=\"1\" class=\"dataframe\">\n",
       "  <thead>\n",
       "    <tr style=\"text-align: right;\">\n",
       "      <th></th>\n",
       "      <th>Car ID</th>\n",
       "      <th>Symboling</th>\n",
       "      <th>Car Name</th>\n",
       "      <th>Fuel Type</th>\n",
       "      <th>Aspiration</th>\n",
       "      <th>Door Number</th>\n",
       "      <th>Car Body</th>\n",
       "      <th>Drive Wheel</th>\n",
       "      <th>Engine Location</th>\n",
       "      <th>Wheel Base</th>\n",
       "      <th>...</th>\n",
       "      <th>Engine Size</th>\n",
       "      <th>Fuel System</th>\n",
       "      <th>Bore Ratio</th>\n",
       "      <th>Stroke</th>\n",
       "      <th>Compression Ratio</th>\n",
       "      <th>Horse Power</th>\n",
       "      <th>Peak RPM</th>\n",
       "      <th>City MPG</th>\n",
       "      <th>Highway MPG</th>\n",
       "      <th>Price</th>\n",
       "    </tr>\n",
       "  </thead>\n",
       "  <tbody>\n",
       "    <tr>\n",
       "      <th>0</th>\n",
       "      <td>1</td>\n",
       "      <td>3</td>\n",
       "      <td>alfa-romero giulia</td>\n",
       "      <td>gas</td>\n",
       "      <td>std</td>\n",
       "      <td>two</td>\n",
       "      <td>convertible</td>\n",
       "      <td>rwd</td>\n",
       "      <td>front</td>\n",
       "      <td>88.6</td>\n",
       "      <td>...</td>\n",
       "      <td>130</td>\n",
       "      <td>mpfi</td>\n",
       "      <td>3.47</td>\n",
       "      <td>2.68</td>\n",
       "      <td>9.0</td>\n",
       "      <td>111</td>\n",
       "      <td>5K</td>\n",
       "      <td>21</td>\n",
       "      <td>27</td>\n",
       "      <td>13495</td>\n",
       "    </tr>\n",
       "    <tr>\n",
       "      <th>1</th>\n",
       "      <td>2</td>\n",
       "      <td>3</td>\n",
       "      <td>alfa-romero stelvio</td>\n",
       "      <td>gas</td>\n",
       "      <td>std</td>\n",
       "      <td>two</td>\n",
       "      <td>convertible</td>\n",
       "      <td>rwd</td>\n",
       "      <td>front</td>\n",
       "      <td>88.6</td>\n",
       "      <td>...</td>\n",
       "      <td>130</td>\n",
       "      <td>mpfi</td>\n",
       "      <td>3.47</td>\n",
       "      <td>2.68</td>\n",
       "      <td>9.0</td>\n",
       "      <td>111</td>\n",
       "      <td>5K</td>\n",
       "      <td>21</td>\n",
       "      <td>27</td>\n",
       "      <td>16500</td>\n",
       "    </tr>\n",
       "    <tr>\n",
       "      <th>2</th>\n",
       "      <td>3</td>\n",
       "      <td>1</td>\n",
       "      <td>alfa-romero Quadrifoglio</td>\n",
       "      <td>gas</td>\n",
       "      <td>std</td>\n",
       "      <td>two</td>\n",
       "      <td>hatchback</td>\n",
       "      <td>rwd</td>\n",
       "      <td>front</td>\n",
       "      <td>94.5</td>\n",
       "      <td>...</td>\n",
       "      <td>152</td>\n",
       "      <td>mpfi</td>\n",
       "      <td>2.68</td>\n",
       "      <td>3.47</td>\n",
       "      <td>9.0</td>\n",
       "      <td>154</td>\n",
       "      <td>5K</td>\n",
       "      <td>19</td>\n",
       "      <td>26</td>\n",
       "      <td>16500</td>\n",
       "    </tr>\n",
       "    <tr>\n",
       "      <th>3</th>\n",
       "      <td>4</td>\n",
       "      <td>2</td>\n",
       "      <td>audi 100 ls</td>\n",
       "      <td>gas</td>\n",
       "      <td>std</td>\n",
       "      <td>four</td>\n",
       "      <td>sedan</td>\n",
       "      <td>fwd</td>\n",
       "      <td>front</td>\n",
       "      <td>99.8</td>\n",
       "      <td>...</td>\n",
       "      <td>109</td>\n",
       "      <td>mpfi</td>\n",
       "      <td>3.19</td>\n",
       "      <td>3.40</td>\n",
       "      <td>10.0</td>\n",
       "      <td>102</td>\n",
       "      <td>5500</td>\n",
       "      <td>24</td>\n",
       "      <td>30</td>\n",
       "      <td>13950</td>\n",
       "    </tr>\n",
       "    <tr>\n",
       "      <th>4</th>\n",
       "      <td>5</td>\n",
       "      <td>2</td>\n",
       "      <td>audi 100ls</td>\n",
       "      <td>gas</td>\n",
       "      <td>std</td>\n",
       "      <td>four</td>\n",
       "      <td>sedan</td>\n",
       "      <td>4wd</td>\n",
       "      <td>front</td>\n",
       "      <td>99.4</td>\n",
       "      <td>...</td>\n",
       "      <td>136</td>\n",
       "      <td>mpfi</td>\n",
       "      <td>3.19</td>\n",
       "      <td>3.40</td>\n",
       "      <td>8.0</td>\n",
       "      <td>115</td>\n",
       "      <td>5500</td>\n",
       "      <td>18</td>\n",
       "      <td>22</td>\n",
       "      <td>17450</td>\n",
       "    </tr>\n",
       "  </tbody>\n",
       "</table>\n",
       "<p>5 rows × 26 columns</p>\n",
       "</div>"
      ],
      "text/plain": [
       "   Car ID  Symboling                  Car Name Fuel Type Aspiration  \\\n",
       "0       1          3        alfa-romero giulia       gas        std   \n",
       "1       2          3       alfa-romero stelvio       gas        std   \n",
       "2       3          1  alfa-romero Quadrifoglio       gas        std   \n",
       "3       4          2               audi 100 ls       gas        std   \n",
       "4       5          2                audi 100ls       gas        std   \n",
       "\n",
       "  Door Number     Car Body Drive Wheel Engine Location  Wheel Base  ...  \\\n",
       "0         two  convertible         rwd           front        88.6  ...   \n",
       "1         two  convertible         rwd           front        88.6  ...   \n",
       "2         two    hatchback         rwd           front        94.5  ...   \n",
       "3        four        sedan         fwd           front        99.8  ...   \n",
       "4        four        sedan         4wd           front        99.4  ...   \n",
       "\n",
       "   Engine Size  Fuel System  Bore Ratio  Stroke Compression Ratio Horse Power  \\\n",
       "0          130         mpfi        3.47    2.68               9.0         111   \n",
       "1          130         mpfi        3.47    2.68               9.0         111   \n",
       "2          152         mpfi        2.68    3.47               9.0         154   \n",
       "3          109         mpfi        3.19    3.40              10.0         102   \n",
       "4          136         mpfi        3.19    3.40               8.0         115   \n",
       "\n",
       "   Peak RPM City MPG  Highway MPG  Price  \n",
       "0        5K       21           27  13495  \n",
       "1        5K       21           27  16500  \n",
       "2        5K       19           26  16500  \n",
       "3      5500       24           30  13950  \n",
       "4      5500       18           22  17450  \n",
       "\n",
       "[5 rows x 26 columns]"
      ]
     },
     "execution_count": 3,
     "metadata": {},
     "output_type": "execute_result"
    }
   ],
   "source": [
    "df = pd.read_csv('car_data.csv')\n",
    "\n",
    "df.head()\n"
   ]
  },
  {
   "cell_type": "code",
   "execution_count": 4,
   "id": "03bd21d9",
   "metadata": {},
   "outputs": [
    {
     "data": {
      "text/plain": [
       "Index(['Car ID', 'Symboling', 'Car Name', 'Fuel Type', 'Aspiration',\n",
       "       'Door Number', 'Car Body', 'Drive Wheel', 'Engine Location',\n",
       "       'Wheel Base', 'Car Length', 'Car Width', 'Car Height', 'Curb Weight',\n",
       "       'Engine Type', 'Cylinder Number', 'Engine Size', 'Fuel System',\n",
       "       'Bore Ratio', 'Stroke', 'Compression Ratio', 'Horse Power', 'Peak RPM',\n",
       "       'City MPG', 'Highway MPG', 'Price'],\n",
       "      dtype='object')"
      ]
     },
     "execution_count": 4,
     "metadata": {},
     "output_type": "execute_result"
    }
   ],
   "source": [
    "df.columns"
   ]
  },
  {
   "cell_type": "code",
   "execution_count": 5,
   "id": "7c2ba419",
   "metadata": {},
   "outputs": [],
   "source": [
    "# Issues with the dataframe?\n",
    "# Column Names\n",
    "# In this case study we will focus on Car Name, Door Number and Peak RPM."
   ]
  },
  {
   "cell_type": "code",
   "execution_count": 6,
   "id": "cd8e4552",
   "metadata": {},
   "outputs": [
    {
     "name": "stdout",
     "output_type": "stream",
     "text": [
      "<class 'pandas.core.frame.DataFrame'>\n",
      "RangeIndex: 205 entries, 0 to 204\n",
      "Data columns (total 26 columns):\n",
      " #   Column             Non-Null Count  Dtype  \n",
      "---  ------             --------------  -----  \n",
      " 0   Car ID             205 non-null    int64  \n",
      " 1   Symboling          205 non-null    int64  \n",
      " 2   Car Name           205 non-null    object \n",
      " 3   Fuel Type          205 non-null    object \n",
      " 4   Aspiration         205 non-null    object \n",
      " 5   Door Number        205 non-null    object \n",
      " 6   Car Body           205 non-null    object \n",
      " 7   Drive Wheel        205 non-null    object \n",
      " 8   Engine Location    205 non-null    object \n",
      " 9   Wheel Base         205 non-null    float64\n",
      " 10  Car Length         205 non-null    float64\n",
      " 11  Car Width          205 non-null    float64\n",
      " 12  Car Height         205 non-null    float64\n",
      " 13  Curb Weight        205 non-null    int64  \n",
      " 14  Engine Type        205 non-null    object \n",
      " 15  Cylinder Number    205 non-null    object \n",
      " 16  Engine Size        205 non-null    int64  \n",
      " 17  Fuel System        205 non-null    object \n",
      " 18  Bore Ratio         205 non-null    float64\n",
      " 19  Stroke             205 non-null    float64\n",
      " 20  Compression Ratio  205 non-null    float64\n",
      " 21  Horse Power        205 non-null    int64  \n",
      " 22  Peak RPM           205 non-null    object \n",
      " 23  City MPG           205 non-null    int64  \n",
      " 24  Highway MPG        205 non-null    int64  \n",
      " 25  Price              205 non-null    object \n",
      "dtypes: float64(7), int64(7), object(12)\n",
      "memory usage: 41.8+ KB\n"
     ]
    }
   ],
   "source": [
    "df.info()"
   ]
  },
  {
   "cell_type": "markdown",
   "id": "036f2f7f",
   "metadata": {},
   "source": [
    "### Fixing Column Names"
   ]
  },
  {
   "cell_type": "code",
   "execution_count": 7,
   "id": "ac30af1e",
   "metadata": {},
   "outputs": [
    {
     "data": {
      "text/plain": [
       "['car_id',\n",
       " 'symboling',\n",
       " 'car_name',\n",
       " 'fuel_type',\n",
       " 'aspiration',\n",
       " 'door_number',\n",
       " 'car_body',\n",
       " 'drive_wheel',\n",
       " 'engine_location',\n",
       " 'wheel_base',\n",
       " 'car_length',\n",
       " 'car_width',\n",
       " 'car_height',\n",
       " 'curb_weight',\n",
       " 'engine_type',\n",
       " 'cylinder_number',\n",
       " 'engine_size',\n",
       " 'fuel_system',\n",
       " 'bore_ratio',\n",
       " 'stroke',\n",
       " 'compression_ratio',\n",
       " 'horse_power',\n",
       " 'peak_rpm',\n",
       " 'city_mpg',\n",
       " 'highway_mpg',\n",
       " 'price']"
      ]
     },
     "execution_count": 7,
     "metadata": {},
     "output_type": "execute_result"
    }
   ],
   "source": [
    "col_names = [ col.lower().replace(' ', '_') for col in df.columns ]\n",
    "\n",
    "col_names"
   ]
  },
  {
   "cell_type": "code",
   "execution_count": 8,
   "id": "9581dbe9",
   "metadata": {},
   "outputs": [],
   "source": [
    "df.columns = col_names"
   ]
  },
  {
   "cell_type": "code",
   "execution_count": 9,
   "id": "380a4aec",
   "metadata": {},
   "outputs": [
    {
     "data": {
      "text/html": [
       "<div>\n",
       "<style scoped>\n",
       "    .dataframe tbody tr th:only-of-type {\n",
       "        vertical-align: middle;\n",
       "    }\n",
       "\n",
       "    .dataframe tbody tr th {\n",
       "        vertical-align: top;\n",
       "    }\n",
       "\n",
       "    .dataframe thead th {\n",
       "        text-align: right;\n",
       "    }\n",
       "</style>\n",
       "<table border=\"1\" class=\"dataframe\">\n",
       "  <thead>\n",
       "    <tr style=\"text-align: right;\">\n",
       "      <th></th>\n",
       "      <th>car_id</th>\n",
       "      <th>symboling</th>\n",
       "      <th>car_name</th>\n",
       "      <th>fuel_type</th>\n",
       "      <th>aspiration</th>\n",
       "      <th>door_number</th>\n",
       "      <th>car_body</th>\n",
       "      <th>drive_wheel</th>\n",
       "      <th>engine_location</th>\n",
       "      <th>wheel_base</th>\n",
       "      <th>...</th>\n",
       "      <th>engine_size</th>\n",
       "      <th>fuel_system</th>\n",
       "      <th>bore_ratio</th>\n",
       "      <th>stroke</th>\n",
       "      <th>compression_ratio</th>\n",
       "      <th>horse_power</th>\n",
       "      <th>peak_rpm</th>\n",
       "      <th>city_mpg</th>\n",
       "      <th>highway_mpg</th>\n",
       "      <th>price</th>\n",
       "    </tr>\n",
       "  </thead>\n",
       "  <tbody>\n",
       "    <tr>\n",
       "      <th>0</th>\n",
       "      <td>1</td>\n",
       "      <td>3</td>\n",
       "      <td>alfa-romero giulia</td>\n",
       "      <td>gas</td>\n",
       "      <td>std</td>\n",
       "      <td>two</td>\n",
       "      <td>convertible</td>\n",
       "      <td>rwd</td>\n",
       "      <td>front</td>\n",
       "      <td>88.6</td>\n",
       "      <td>...</td>\n",
       "      <td>130</td>\n",
       "      <td>mpfi</td>\n",
       "      <td>3.47</td>\n",
       "      <td>2.68</td>\n",
       "      <td>9.0</td>\n",
       "      <td>111</td>\n",
       "      <td>5K</td>\n",
       "      <td>21</td>\n",
       "      <td>27</td>\n",
       "      <td>13495</td>\n",
       "    </tr>\n",
       "    <tr>\n",
       "      <th>1</th>\n",
       "      <td>2</td>\n",
       "      <td>3</td>\n",
       "      <td>alfa-romero stelvio</td>\n",
       "      <td>gas</td>\n",
       "      <td>std</td>\n",
       "      <td>two</td>\n",
       "      <td>convertible</td>\n",
       "      <td>rwd</td>\n",
       "      <td>front</td>\n",
       "      <td>88.6</td>\n",
       "      <td>...</td>\n",
       "      <td>130</td>\n",
       "      <td>mpfi</td>\n",
       "      <td>3.47</td>\n",
       "      <td>2.68</td>\n",
       "      <td>9.0</td>\n",
       "      <td>111</td>\n",
       "      <td>5K</td>\n",
       "      <td>21</td>\n",
       "      <td>27</td>\n",
       "      <td>16500</td>\n",
       "    </tr>\n",
       "    <tr>\n",
       "      <th>2</th>\n",
       "      <td>3</td>\n",
       "      <td>1</td>\n",
       "      <td>alfa-romero Quadrifoglio</td>\n",
       "      <td>gas</td>\n",
       "      <td>std</td>\n",
       "      <td>two</td>\n",
       "      <td>hatchback</td>\n",
       "      <td>rwd</td>\n",
       "      <td>front</td>\n",
       "      <td>94.5</td>\n",
       "      <td>...</td>\n",
       "      <td>152</td>\n",
       "      <td>mpfi</td>\n",
       "      <td>2.68</td>\n",
       "      <td>3.47</td>\n",
       "      <td>9.0</td>\n",
       "      <td>154</td>\n",
       "      <td>5K</td>\n",
       "      <td>19</td>\n",
       "      <td>26</td>\n",
       "      <td>16500</td>\n",
       "    </tr>\n",
       "    <tr>\n",
       "      <th>3</th>\n",
       "      <td>4</td>\n",
       "      <td>2</td>\n",
       "      <td>audi 100 ls</td>\n",
       "      <td>gas</td>\n",
       "      <td>std</td>\n",
       "      <td>four</td>\n",
       "      <td>sedan</td>\n",
       "      <td>fwd</td>\n",
       "      <td>front</td>\n",
       "      <td>99.8</td>\n",
       "      <td>...</td>\n",
       "      <td>109</td>\n",
       "      <td>mpfi</td>\n",
       "      <td>3.19</td>\n",
       "      <td>3.40</td>\n",
       "      <td>10.0</td>\n",
       "      <td>102</td>\n",
       "      <td>5500</td>\n",
       "      <td>24</td>\n",
       "      <td>30</td>\n",
       "      <td>13950</td>\n",
       "    </tr>\n",
       "    <tr>\n",
       "      <th>4</th>\n",
       "      <td>5</td>\n",
       "      <td>2</td>\n",
       "      <td>audi 100ls</td>\n",
       "      <td>gas</td>\n",
       "      <td>std</td>\n",
       "      <td>four</td>\n",
       "      <td>sedan</td>\n",
       "      <td>4wd</td>\n",
       "      <td>front</td>\n",
       "      <td>99.4</td>\n",
       "      <td>...</td>\n",
       "      <td>136</td>\n",
       "      <td>mpfi</td>\n",
       "      <td>3.19</td>\n",
       "      <td>3.40</td>\n",
       "      <td>8.0</td>\n",
       "      <td>115</td>\n",
       "      <td>5500</td>\n",
       "      <td>18</td>\n",
       "      <td>22</td>\n",
       "      <td>17450</td>\n",
       "    </tr>\n",
       "  </tbody>\n",
       "</table>\n",
       "<p>5 rows × 26 columns</p>\n",
       "</div>"
      ],
      "text/plain": [
       "   car_id  symboling                  car_name fuel_type aspiration  \\\n",
       "0       1          3        alfa-romero giulia       gas        std   \n",
       "1       2          3       alfa-romero stelvio       gas        std   \n",
       "2       3          1  alfa-romero Quadrifoglio       gas        std   \n",
       "3       4          2               audi 100 ls       gas        std   \n",
       "4       5          2                audi 100ls       gas        std   \n",
       "\n",
       "  door_number     car_body drive_wheel engine_location  wheel_base  ...  \\\n",
       "0         two  convertible         rwd           front        88.6  ...   \n",
       "1         two  convertible         rwd           front        88.6  ...   \n",
       "2         two    hatchback         rwd           front        94.5  ...   \n",
       "3        four        sedan         fwd           front        99.8  ...   \n",
       "4        four        sedan         4wd           front        99.4  ...   \n",
       "\n",
       "   engine_size  fuel_system  bore_ratio  stroke compression_ratio horse_power  \\\n",
       "0          130         mpfi        3.47    2.68               9.0         111   \n",
       "1          130         mpfi        3.47    2.68               9.0         111   \n",
       "2          152         mpfi        2.68    3.47               9.0         154   \n",
       "3          109         mpfi        3.19    3.40              10.0         102   \n",
       "4          136         mpfi        3.19    3.40               8.0         115   \n",
       "\n",
       "   peak_rpm city_mpg  highway_mpg  price  \n",
       "0        5K       21           27  13495  \n",
       "1        5K       21           27  16500  \n",
       "2        5K       19           26  16500  \n",
       "3      5500       24           30  13950  \n",
       "4      5500       18           22  17450  \n",
       "\n",
       "[5 rows x 26 columns]"
      ]
     },
     "execution_count": 9,
     "metadata": {},
     "output_type": "execute_result"
    }
   ],
   "source": [
    "df.head()"
   ]
  },
  {
   "cell_type": "code",
   "execution_count": 10,
   "id": "51501e5b",
   "metadata": {},
   "outputs": [
    {
     "name": "stdout",
     "output_type": "stream",
     "text": [
      "<class 'pandas.core.frame.DataFrame'>\n",
      "RangeIndex: 205 entries, 0 to 204\n",
      "Data columns (total 26 columns):\n",
      " #   Column             Non-Null Count  Dtype  \n",
      "---  ------             --------------  -----  \n",
      " 0   car_id             205 non-null    int64  \n",
      " 1   symboling          205 non-null    int64  \n",
      " 2   car_name           205 non-null    object \n",
      " 3   fuel_type          205 non-null    object \n",
      " 4   aspiration         205 non-null    object \n",
      " 5   door_number        205 non-null    object \n",
      " 6   car_body           205 non-null    object \n",
      " 7   drive_wheel        205 non-null    object \n",
      " 8   engine_location    205 non-null    object \n",
      " 9   wheel_base         205 non-null    float64\n",
      " 10  car_length         205 non-null    float64\n",
      " 11  car_width          205 non-null    float64\n",
      " 12  car_height         205 non-null    float64\n",
      " 13  curb_weight        205 non-null    int64  \n",
      " 14  engine_type        205 non-null    object \n",
      " 15  cylinder_number    205 non-null    object \n",
      " 16  engine_size        205 non-null    int64  \n",
      " 17  fuel_system        205 non-null    object \n",
      " 18  bore_ratio         205 non-null    float64\n",
      " 19  stroke             205 non-null    float64\n",
      " 20  compression_ratio  205 non-null    float64\n",
      " 21  horse_power        205 non-null    int64  \n",
      " 22  peak_rpm           205 non-null    object \n",
      " 23  city_mpg           205 non-null    int64  \n",
      " 24  highway_mpg        205 non-null    int64  \n",
      " 25  price              205 non-null    object \n",
      "dtypes: float64(7), int64(7), object(12)\n",
      "memory usage: 41.8+ KB\n"
     ]
    }
   ],
   "source": [
    "df.info()\n"
   ]
  },
  {
   "cell_type": "markdown",
   "id": "e4b5a0ae",
   "metadata": {},
   "source": [
    "## As a part of this case study, we will focus only on car_name, door_number and peak_rpm"
   ]
  },
  {
   "cell_type": "markdown",
   "id": "8da2dc1f",
   "metadata": {},
   "source": [
    "##### From df.info(), it is clear that car_name, door_number and peak_rpm are object type without any missing values"
   ]
  },
  {
   "cell_type": "code",
   "execution_count": 11,
   "id": "41037f56",
   "metadata": {},
   "outputs": [
    {
     "data": {
      "text/plain": [
       "toyota corona           6\n",
       "toyota corolla          6\n",
       "peugeot 504             6\n",
       "subaru dl               4\n",
       "mitsubishi mirage g4    3\n",
       "                       ..\n",
       "mazda glc 4             1\n",
       "mazda rx2 coupe         1\n",
       "maxda glc deluxe        1\n",
       "maxda rx3               1\n",
       "volvo 246               1\n",
       "Name: car_name, Length: 147, dtype: int64"
      ]
     },
     "execution_count": 11,
     "metadata": {},
     "output_type": "execute_result"
    }
   ],
   "source": [
    "df.car_name.value_counts()"
   ]
  },
  {
   "cell_type": "code",
   "execution_count": 12,
   "id": "80d5f776",
   "metadata": {},
   "outputs": [
    {
     "data": {
      "text/plain": [
       "four    114\n",
       "two      90\n",
       "?         1\n",
       "Name: door_number, dtype: int64"
      ]
     },
     "execution_count": 12,
     "metadata": {},
     "output_type": "execute_result"
    }
   ],
   "source": [
    "df.door_number.value_counts()"
   ]
  },
  {
   "cell_type": "code",
   "execution_count": 13,
   "id": "c92a8e7f",
   "metadata": {},
   "outputs": [
    {
     "data": {
      "text/plain": [
       "5500     36\n",
       "4800     36\n",
       "5K       27\n",
       "5200     21\n",
       "5400     10\n",
       "6K        9\n",
       "4500      7\n",
       "5250      7\n",
       "5800      7\n",
       "5100      5\n",
       "4150      5\n",
       "4200      5\n",
       "4750      4\n",
       "4350      4\n",
       "5,400     3\n",
       "4250      3\n",
       "5900      3\n",
       "4400      3\n",
       "5,200     2\n",
       "6600      2\n",
       "4900      1\n",
       "5,500     1\n",
       "5750      1\n",
       "5600      1\n",
       "4650      1\n",
       "5300      1\n",
       "Name: peak_rpm, dtype: int64"
      ]
     },
     "execution_count": 13,
     "metadata": {},
     "output_type": "execute_result"
    }
   ],
   "source": [
    "df.peak_rpm.value_counts()"
   ]
  },
  {
   "cell_type": "markdown",
   "id": "1a3dcb38",
   "metadata": {},
   "source": [
    "#### Observations"
   ]
  },
  {
   "cell_type": "markdown",
   "id": "c85814b1",
   "metadata": {},
   "source": [
    "car_name is a categorical column with 147 categories of cars\n",
    "\n",
    "It looks like door_number is containing one missing value\n",
    "\n",
    "peak_rpm looks like an integer column with some abnormalities."
   ]
  },
  {
   "cell_type": "markdown",
   "id": "998b3895",
   "metadata": {},
   "source": [
    "### Fixing door_number column"
   ]
  },
  {
   "cell_type": "markdown",
   "id": "be412f36",
   "metadata": {},
   "source": [
    "Posible Fixes\n",
    "\n",
    "Handle the missing value\n",
    "\n",
    "Possibility to conver to integer column"
   ]
  },
  {
   "cell_type": "markdown",
   "id": "78d873d7",
   "metadata": {},
   "source": [
    "### Crosstab - It compares the index and columns which yields the count"
   ]
  },
  {
   "cell_type": "code",
   "execution_count": 14,
   "id": "0d915581",
   "metadata": {},
   "outputs": [
    {
     "data": {
      "text/plain": [
       "Index(['car_id', 'symboling', 'car_name', 'fuel_type', 'aspiration',\n",
       "       'door_number', 'car_body', 'drive_wheel', 'engine_location',\n",
       "       'wheel_base', 'car_length', 'car_width', 'car_height', 'curb_weight',\n",
       "       'engine_type', 'cylinder_number', 'engine_size', 'fuel_system',\n",
       "       'bore_ratio', 'stroke', 'compression_ratio', 'horse_power', 'peak_rpm',\n",
       "       'city_mpg', 'highway_mpg', 'price'],\n",
       "      dtype='object')"
      ]
     },
     "execution_count": 14,
     "metadata": {},
     "output_type": "execute_result"
    }
   ],
   "source": [
    "df.columns"
   ]
  },
  {
   "cell_type": "code",
   "execution_count": 15,
   "id": "60c8002b",
   "metadata": {},
   "outputs": [
    {
     "data": {
      "text/html": [
       "<div>\n",
       "<style scoped>\n",
       "    .dataframe tbody tr th:only-of-type {\n",
       "        vertical-align: middle;\n",
       "    }\n",
       "\n",
       "    .dataframe tbody tr th {\n",
       "        vertical-align: top;\n",
       "    }\n",
       "\n",
       "    .dataframe thead th {\n",
       "        text-align: right;\n",
       "    }\n",
       "</style>\n",
       "<table border=\"1\" class=\"dataframe\">\n",
       "  <thead>\n",
       "    <tr style=\"text-align: right;\">\n",
       "      <th>car_body</th>\n",
       "      <th>convertible</th>\n",
       "      <th>hardtop</th>\n",
       "      <th>hatchback</th>\n",
       "      <th>sedan</th>\n",
       "      <th>wagon</th>\n",
       "    </tr>\n",
       "    <tr>\n",
       "      <th>door_number</th>\n",
       "      <th></th>\n",
       "      <th></th>\n",
       "      <th></th>\n",
       "      <th></th>\n",
       "      <th></th>\n",
       "    </tr>\n",
       "  </thead>\n",
       "  <tbody>\n",
       "    <tr>\n",
       "      <th>?</th>\n",
       "      <td>0</td>\n",
       "      <td>0</td>\n",
       "      <td>0</td>\n",
       "      <td>0</td>\n",
       "      <td>1</td>\n",
       "    </tr>\n",
       "    <tr>\n",
       "      <th>four</th>\n",
       "      <td>0</td>\n",
       "      <td>0</td>\n",
       "      <td>10</td>\n",
       "      <td>80</td>\n",
       "      <td>24</td>\n",
       "    </tr>\n",
       "    <tr>\n",
       "      <th>two</th>\n",
       "      <td>6</td>\n",
       "      <td>8</td>\n",
       "      <td>60</td>\n",
       "      <td>16</td>\n",
       "      <td>0</td>\n",
       "    </tr>\n",
       "  </tbody>\n",
       "</table>\n",
       "</div>"
      ],
      "text/plain": [
       "car_body     convertible  hardtop  hatchback  sedan  wagon\n",
       "door_number                                               \n",
       "?                      0        0          0      0      1\n",
       "four                   0        0         10     80     24\n",
       "two                    6        8         60     16      0"
      ]
     },
     "execution_count": 15,
     "metadata": {},
     "output_type": "execute_result"
    }
   ],
   "source": [
    "# pd.crosstab(index=df['door_number'], columns=df['car_body'])\n",
    "\n",
    "pd.crosstab(df['door_number'], df['car_body'])"
   ]
  },
  {
   "cell_type": "code",
   "execution_count": 16,
   "id": "f223068e",
   "metadata": {},
   "outputs": [
    {
     "data": {
      "text/html": [
       "<div>\n",
       "<style scoped>\n",
       "    .dataframe tbody tr th:only-of-type {\n",
       "        vertical-align: middle;\n",
       "    }\n",
       "\n",
       "    .dataframe tbody tr th {\n",
       "        vertical-align: top;\n",
       "    }\n",
       "\n",
       "    .dataframe thead th {\n",
       "        text-align: right;\n",
       "    }\n",
       "</style>\n",
       "<table border=\"1\" class=\"dataframe\">\n",
       "  <thead>\n",
       "    <tr style=\"text-align: right;\">\n",
       "      <th>fuel_type</th>\n",
       "      <th>diesel</th>\n",
       "      <th>gas</th>\n",
       "    </tr>\n",
       "    <tr>\n",
       "      <th>door_number</th>\n",
       "      <th></th>\n",
       "      <th></th>\n",
       "    </tr>\n",
       "  </thead>\n",
       "  <tbody>\n",
       "    <tr>\n",
       "      <th>?</th>\n",
       "      <td>0</td>\n",
       "      <td>1</td>\n",
       "    </tr>\n",
       "    <tr>\n",
       "      <th>four</th>\n",
       "      <td>17</td>\n",
       "      <td>97</td>\n",
       "    </tr>\n",
       "    <tr>\n",
       "      <th>two</th>\n",
       "      <td>3</td>\n",
       "      <td>87</td>\n",
       "    </tr>\n",
       "  </tbody>\n",
       "</table>\n",
       "</div>"
      ],
      "text/plain": [
       "fuel_type    diesel  gas\n",
       "door_number             \n",
       "?                 0    1\n",
       "four             17   97\n",
       "two               3   87"
      ]
     },
     "execution_count": 16,
     "metadata": {},
     "output_type": "execute_result"
    }
   ],
   "source": [
    "pd.crosstab(df['door_number'], df['fuel_type'])"
   ]
  },
  {
   "cell_type": "code",
   "execution_count": 17,
   "id": "31dc3173",
   "metadata": {},
   "outputs": [
    {
     "data": {
      "text/html": [
       "<div>\n",
       "<style scoped>\n",
       "    .dataframe tbody tr th:only-of-type {\n",
       "        vertical-align: middle;\n",
       "    }\n",
       "\n",
       "    .dataframe tbody tr th {\n",
       "        vertical-align: top;\n",
       "    }\n",
       "\n",
       "    .dataframe thead th {\n",
       "        text-align: right;\n",
       "    }\n",
       "</style>\n",
       "<table border=\"1\" class=\"dataframe\">\n",
       "  <thead>\n",
       "    <tr style=\"text-align: right;\">\n",
       "      <th>drive_wheel</th>\n",
       "      <th>4wd</th>\n",
       "      <th>fwd</th>\n",
       "      <th>rwd</th>\n",
       "    </tr>\n",
       "    <tr>\n",
       "      <th>door_number</th>\n",
       "      <th></th>\n",
       "      <th></th>\n",
       "      <th></th>\n",
       "    </tr>\n",
       "  </thead>\n",
       "  <tbody>\n",
       "    <tr>\n",
       "      <th>?</th>\n",
       "      <td>0</td>\n",
       "      <td>1</td>\n",
       "      <td>0</td>\n",
       "    </tr>\n",
       "    <tr>\n",
       "      <th>four</th>\n",
       "      <td>7</td>\n",
       "      <td>68</td>\n",
       "      <td>39</td>\n",
       "    </tr>\n",
       "    <tr>\n",
       "      <th>two</th>\n",
       "      <td>2</td>\n",
       "      <td>51</td>\n",
       "      <td>37</td>\n",
       "    </tr>\n",
       "  </tbody>\n",
       "</table>\n",
       "</div>"
      ],
      "text/plain": [
       "drive_wheel  4wd  fwd  rwd\n",
       "door_number               \n",
       "?              0    1    0\n",
       "four           7   68   39\n",
       "two            2   51   37"
      ]
     },
     "execution_count": 17,
     "metadata": {},
     "output_type": "execute_result"
    }
   ],
   "source": [
    "pd.crosstab(df['door_number'], df['drive_wheel'])"
   ]
  },
  {
   "cell_type": "code",
   "execution_count": 18,
   "id": "b50c940f",
   "metadata": {},
   "outputs": [
    {
     "data": {
      "text/html": [
       "<div>\n",
       "<style scoped>\n",
       "    .dataframe tbody tr th:only-of-type {\n",
       "        vertical-align: middle;\n",
       "    }\n",
       "\n",
       "    .dataframe tbody tr th {\n",
       "        vertical-align: top;\n",
       "    }\n",
       "\n",
       "    .dataframe thead th {\n",
       "        text-align: right;\n",
       "    }\n",
       "</style>\n",
       "<table border=\"1\" class=\"dataframe\">\n",
       "  <thead>\n",
       "    <tr style=\"text-align: right;\">\n",
       "      <th>engine_location</th>\n",
       "      <th>front</th>\n",
       "      <th>rear</th>\n",
       "    </tr>\n",
       "    <tr>\n",
       "      <th>door_number</th>\n",
       "      <th></th>\n",
       "      <th></th>\n",
       "    </tr>\n",
       "  </thead>\n",
       "  <tbody>\n",
       "    <tr>\n",
       "      <th>?</th>\n",
       "      <td>1</td>\n",
       "      <td>0</td>\n",
       "    </tr>\n",
       "    <tr>\n",
       "      <th>four</th>\n",
       "      <td>114</td>\n",
       "      <td>0</td>\n",
       "    </tr>\n",
       "    <tr>\n",
       "      <th>two</th>\n",
       "      <td>87</td>\n",
       "      <td>3</td>\n",
       "    </tr>\n",
       "  </tbody>\n",
       "</table>\n",
       "</div>"
      ],
      "text/plain": [
       "engine_location  front  rear\n",
       "door_number                 \n",
       "?                    1     0\n",
       "four               114     0\n",
       "two                 87     3"
      ]
     },
     "execution_count": 18,
     "metadata": {},
     "output_type": "execute_result"
    }
   ],
   "source": [
    "pd.crosstab(df['door_number'], df['engine_location'])"
   ]
  },
  {
   "cell_type": "markdown",
   "id": "e47610aa",
   "metadata": {},
   "source": [
    "### Replace"
   ]
  },
  {
   "cell_type": "code",
   "execution_count": 19,
   "id": "15631bd7",
   "metadata": {},
   "outputs": [
    {
     "data": {
      "text/plain": [
       "four    115\n",
       "two      90\n",
       "Name: door_number, dtype: int64"
      ]
     },
     "execution_count": 19,
     "metadata": {},
     "output_type": "execute_result"
    }
   ],
   "source": [
    "# df.replace(to_replace='old', value='new', regex=False, inplace=True)\n",
    "# df.replace(to_replace=r'regex', value='new', regex=True, inplace=True)\n",
    "\n",
    "df['door_number'].replace(to_replace='?', value='four', regex=False, inplace=True)\n",
    "\n",
    "df.door_number.value_counts()"
   ]
  },
  {
   "cell_type": "code",
   "execution_count": 20,
   "id": "a4ca8c4a",
   "metadata": {},
   "outputs": [
    {
     "data": {
      "text/html": [
       "<div>\n",
       "<style scoped>\n",
       "    .dataframe tbody tr th:only-of-type {\n",
       "        vertical-align: middle;\n",
       "    }\n",
       "\n",
       "    .dataframe tbody tr th {\n",
       "        vertical-align: top;\n",
       "    }\n",
       "\n",
       "    .dataframe thead th {\n",
       "        text-align: right;\n",
       "    }\n",
       "</style>\n",
       "<table border=\"1\" class=\"dataframe\">\n",
       "  <thead>\n",
       "    <tr style=\"text-align: right;\">\n",
       "      <th></th>\n",
       "      <th>car_id</th>\n",
       "      <th>symboling</th>\n",
       "      <th>car_name</th>\n",
       "      <th>fuel_type</th>\n",
       "      <th>aspiration</th>\n",
       "      <th>door_number</th>\n",
       "      <th>car_body</th>\n",
       "      <th>drive_wheel</th>\n",
       "      <th>engine_location</th>\n",
       "      <th>wheel_base</th>\n",
       "      <th>...</th>\n",
       "      <th>engine_size</th>\n",
       "      <th>fuel_system</th>\n",
       "      <th>bore_ratio</th>\n",
       "      <th>stroke</th>\n",
       "      <th>compression_ratio</th>\n",
       "      <th>horse_power</th>\n",
       "      <th>peak_rpm</th>\n",
       "      <th>city_mpg</th>\n",
       "      <th>highway_mpg</th>\n",
       "      <th>price</th>\n",
       "    </tr>\n",
       "  </thead>\n",
       "  <tbody>\n",
       "    <tr>\n",
       "      <th>0</th>\n",
       "      <td>1</td>\n",
       "      <td>3</td>\n",
       "      <td>alfa-romero giulia</td>\n",
       "      <td>gas</td>\n",
       "      <td>std</td>\n",
       "      <td>two</td>\n",
       "      <td>convertible</td>\n",
       "      <td>rwd</td>\n",
       "      <td>front</td>\n",
       "      <td>88.6</td>\n",
       "      <td>...</td>\n",
       "      <td>130</td>\n",
       "      <td>mpfi</td>\n",
       "      <td>3.47</td>\n",
       "      <td>2.68</td>\n",
       "      <td>9.0</td>\n",
       "      <td>111</td>\n",
       "      <td>5K</td>\n",
       "      <td>21</td>\n",
       "      <td>27</td>\n",
       "      <td>13495</td>\n",
       "    </tr>\n",
       "    <tr>\n",
       "      <th>1</th>\n",
       "      <td>2</td>\n",
       "      <td>3</td>\n",
       "      <td>alfa-romero stelvio</td>\n",
       "      <td>gas</td>\n",
       "      <td>std</td>\n",
       "      <td>two</td>\n",
       "      <td>convertible</td>\n",
       "      <td>rwd</td>\n",
       "      <td>front</td>\n",
       "      <td>88.6</td>\n",
       "      <td>...</td>\n",
       "      <td>130</td>\n",
       "      <td>mpfi</td>\n",
       "      <td>3.47</td>\n",
       "      <td>2.68</td>\n",
       "      <td>9.0</td>\n",
       "      <td>111</td>\n",
       "      <td>5K</td>\n",
       "      <td>21</td>\n",
       "      <td>27</td>\n",
       "      <td>16500</td>\n",
       "    </tr>\n",
       "    <tr>\n",
       "      <th>2</th>\n",
       "      <td>3</td>\n",
       "      <td>1</td>\n",
       "      <td>alfa-romero Quadrifoglio</td>\n",
       "      <td>gas</td>\n",
       "      <td>std</td>\n",
       "      <td>two</td>\n",
       "      <td>hatchback</td>\n",
       "      <td>rwd</td>\n",
       "      <td>front</td>\n",
       "      <td>94.5</td>\n",
       "      <td>...</td>\n",
       "      <td>152</td>\n",
       "      <td>mpfi</td>\n",
       "      <td>2.68</td>\n",
       "      <td>3.47</td>\n",
       "      <td>9.0</td>\n",
       "      <td>154</td>\n",
       "      <td>5K</td>\n",
       "      <td>19</td>\n",
       "      <td>26</td>\n",
       "      <td>16500</td>\n",
       "    </tr>\n",
       "    <tr>\n",
       "      <th>3</th>\n",
       "      <td>4</td>\n",
       "      <td>2</td>\n",
       "      <td>audi 100 ls</td>\n",
       "      <td>gas</td>\n",
       "      <td>std</td>\n",
       "      <td>four</td>\n",
       "      <td>sedan</td>\n",
       "      <td>fwd</td>\n",
       "      <td>front</td>\n",
       "      <td>99.8</td>\n",
       "      <td>...</td>\n",
       "      <td>109</td>\n",
       "      <td>mpfi</td>\n",
       "      <td>3.19</td>\n",
       "      <td>3.40</td>\n",
       "      <td>10.0</td>\n",
       "      <td>102</td>\n",
       "      <td>5500</td>\n",
       "      <td>24</td>\n",
       "      <td>30</td>\n",
       "      <td>13950</td>\n",
       "    </tr>\n",
       "    <tr>\n",
       "      <th>4</th>\n",
       "      <td>5</td>\n",
       "      <td>2</td>\n",
       "      <td>audi 100ls</td>\n",
       "      <td>gas</td>\n",
       "      <td>std</td>\n",
       "      <td>four</td>\n",
       "      <td>sedan</td>\n",
       "      <td>4wd</td>\n",
       "      <td>front</td>\n",
       "      <td>99.4</td>\n",
       "      <td>...</td>\n",
       "      <td>136</td>\n",
       "      <td>mpfi</td>\n",
       "      <td>3.19</td>\n",
       "      <td>3.40</td>\n",
       "      <td>8.0</td>\n",
       "      <td>115</td>\n",
       "      <td>5500</td>\n",
       "      <td>18</td>\n",
       "      <td>22</td>\n",
       "      <td>17450</td>\n",
       "    </tr>\n",
       "  </tbody>\n",
       "</table>\n",
       "<p>5 rows × 26 columns</p>\n",
       "</div>"
      ],
      "text/plain": [
       "   car_id  symboling                  car_name fuel_type aspiration  \\\n",
       "0       1          3        alfa-romero giulia       gas        std   \n",
       "1       2          3       alfa-romero stelvio       gas        std   \n",
       "2       3          1  alfa-romero Quadrifoglio       gas        std   \n",
       "3       4          2               audi 100 ls       gas        std   \n",
       "4       5          2                audi 100ls       gas        std   \n",
       "\n",
       "  door_number     car_body drive_wheel engine_location  wheel_base  ...  \\\n",
       "0         two  convertible         rwd           front        88.6  ...   \n",
       "1         two  convertible         rwd           front        88.6  ...   \n",
       "2         two    hatchback         rwd           front        94.5  ...   \n",
       "3        four        sedan         fwd           front        99.8  ...   \n",
       "4        four        sedan         4wd           front        99.4  ...   \n",
       "\n",
       "   engine_size  fuel_system  bore_ratio  stroke compression_ratio horse_power  \\\n",
       "0          130         mpfi        3.47    2.68               9.0         111   \n",
       "1          130         mpfi        3.47    2.68               9.0         111   \n",
       "2          152         mpfi        2.68    3.47               9.0         154   \n",
       "3          109         mpfi        3.19    3.40              10.0         102   \n",
       "4          136         mpfi        3.19    3.40               8.0         115   \n",
       "\n",
       "   peak_rpm city_mpg  highway_mpg  price  \n",
       "0        5K       21           27  13495  \n",
       "1        5K       21           27  16500  \n",
       "2        5K       19           26  16500  \n",
       "3      5500       24           30  13950  \n",
       "4      5500       18           22  17450  \n",
       "\n",
       "[5 rows x 26 columns]"
      ]
     },
     "execution_count": 20,
     "metadata": {},
     "output_type": "execute_result"
    }
   ],
   "source": [
    "df.head()"
   ]
  },
  {
   "cell_type": "code",
   "execution_count": 21,
   "id": "037710d7",
   "metadata": {},
   "outputs": [
    {
     "data": {
      "text/plain": [
       "0      2\n",
       "1      2\n",
       "2      2\n",
       "3      4\n",
       "4      4\n",
       "      ..\n",
       "200    4\n",
       "201    4\n",
       "202    4\n",
       "203    4\n",
       "204    4\n",
       "Name: door_number, Length: 205, dtype: int64"
      ]
     },
     "execution_count": 21,
     "metadata": {},
     "output_type": "execute_result"
    }
   ],
   "source": [
    "# df['door_number'].replace(to_replace='four', value='4', regex=False, inplace=True)\n",
    "# df['door_number'].replace(to_replace='two', value='2', regex=False, inplace=True)\n",
    "\n",
    "df['door_number'].apply(lambda x : 4 if x=='four' else 2)"
   ]
  },
  {
   "cell_type": "code",
   "execution_count": 22,
   "id": "f264449b",
   "metadata": {},
   "outputs": [
    {
     "data": {
      "text/plain": [
       "four    115\n",
       "two      90\n",
       "Name: door_number, dtype: int64"
      ]
     },
     "execution_count": 22,
     "metadata": {},
     "output_type": "execute_result"
    }
   ],
   "source": [
    "df['door_number'].value_counts()\n"
   ]
  },
  {
   "cell_type": "code",
   "execution_count": 23,
   "id": "2f66acc1",
   "metadata": {},
   "outputs": [
    {
     "data": {
      "text/plain": [
       "4    115\n",
       "2     90\n",
       "Name: door_number, dtype: int64"
      ]
     },
     "execution_count": 23,
     "metadata": {},
     "output_type": "execute_result"
    }
   ],
   "source": [
    "df['door_number'].apply(lambda x : 4 if x=='four' else 2).value_counts()"
   ]
  },
  {
   "cell_type": "code",
   "execution_count": 24,
   "id": "fac5c0f3",
   "metadata": {},
   "outputs": [],
   "source": [
    "df['door_number'] = df['door_number'].apply(lambda x : 4 if x=='four' else 2)"
   ]
  },
  {
   "cell_type": "code",
   "execution_count": 25,
   "id": "7f490991",
   "metadata": {},
   "outputs": [
    {
     "data": {
      "text/html": [
       "<div>\n",
       "<style scoped>\n",
       "    .dataframe tbody tr th:only-of-type {\n",
       "        vertical-align: middle;\n",
       "    }\n",
       "\n",
       "    .dataframe tbody tr th {\n",
       "        vertical-align: top;\n",
       "    }\n",
       "\n",
       "    .dataframe thead th {\n",
       "        text-align: right;\n",
       "    }\n",
       "</style>\n",
       "<table border=\"1\" class=\"dataframe\">\n",
       "  <thead>\n",
       "    <tr style=\"text-align: right;\">\n",
       "      <th></th>\n",
       "      <th>car_id</th>\n",
       "      <th>symboling</th>\n",
       "      <th>car_name</th>\n",
       "      <th>fuel_type</th>\n",
       "      <th>aspiration</th>\n",
       "      <th>door_number</th>\n",
       "      <th>car_body</th>\n",
       "      <th>drive_wheel</th>\n",
       "      <th>engine_location</th>\n",
       "      <th>wheel_base</th>\n",
       "      <th>...</th>\n",
       "      <th>engine_size</th>\n",
       "      <th>fuel_system</th>\n",
       "      <th>bore_ratio</th>\n",
       "      <th>stroke</th>\n",
       "      <th>compression_ratio</th>\n",
       "      <th>horse_power</th>\n",
       "      <th>peak_rpm</th>\n",
       "      <th>city_mpg</th>\n",
       "      <th>highway_mpg</th>\n",
       "      <th>price</th>\n",
       "    </tr>\n",
       "  </thead>\n",
       "  <tbody>\n",
       "    <tr>\n",
       "      <th>0</th>\n",
       "      <td>1</td>\n",
       "      <td>3</td>\n",
       "      <td>alfa-romero giulia</td>\n",
       "      <td>gas</td>\n",
       "      <td>std</td>\n",
       "      <td>2</td>\n",
       "      <td>convertible</td>\n",
       "      <td>rwd</td>\n",
       "      <td>front</td>\n",
       "      <td>88.6</td>\n",
       "      <td>...</td>\n",
       "      <td>130</td>\n",
       "      <td>mpfi</td>\n",
       "      <td>3.47</td>\n",
       "      <td>2.68</td>\n",
       "      <td>9.0</td>\n",
       "      <td>111</td>\n",
       "      <td>5K</td>\n",
       "      <td>21</td>\n",
       "      <td>27</td>\n",
       "      <td>13495</td>\n",
       "    </tr>\n",
       "    <tr>\n",
       "      <th>1</th>\n",
       "      <td>2</td>\n",
       "      <td>3</td>\n",
       "      <td>alfa-romero stelvio</td>\n",
       "      <td>gas</td>\n",
       "      <td>std</td>\n",
       "      <td>2</td>\n",
       "      <td>convertible</td>\n",
       "      <td>rwd</td>\n",
       "      <td>front</td>\n",
       "      <td>88.6</td>\n",
       "      <td>...</td>\n",
       "      <td>130</td>\n",
       "      <td>mpfi</td>\n",
       "      <td>3.47</td>\n",
       "      <td>2.68</td>\n",
       "      <td>9.0</td>\n",
       "      <td>111</td>\n",
       "      <td>5K</td>\n",
       "      <td>21</td>\n",
       "      <td>27</td>\n",
       "      <td>16500</td>\n",
       "    </tr>\n",
       "    <tr>\n",
       "      <th>2</th>\n",
       "      <td>3</td>\n",
       "      <td>1</td>\n",
       "      <td>alfa-romero Quadrifoglio</td>\n",
       "      <td>gas</td>\n",
       "      <td>std</td>\n",
       "      <td>2</td>\n",
       "      <td>hatchback</td>\n",
       "      <td>rwd</td>\n",
       "      <td>front</td>\n",
       "      <td>94.5</td>\n",
       "      <td>...</td>\n",
       "      <td>152</td>\n",
       "      <td>mpfi</td>\n",
       "      <td>2.68</td>\n",
       "      <td>3.47</td>\n",
       "      <td>9.0</td>\n",
       "      <td>154</td>\n",
       "      <td>5K</td>\n",
       "      <td>19</td>\n",
       "      <td>26</td>\n",
       "      <td>16500</td>\n",
       "    </tr>\n",
       "    <tr>\n",
       "      <th>3</th>\n",
       "      <td>4</td>\n",
       "      <td>2</td>\n",
       "      <td>audi 100 ls</td>\n",
       "      <td>gas</td>\n",
       "      <td>std</td>\n",
       "      <td>4</td>\n",
       "      <td>sedan</td>\n",
       "      <td>fwd</td>\n",
       "      <td>front</td>\n",
       "      <td>99.8</td>\n",
       "      <td>...</td>\n",
       "      <td>109</td>\n",
       "      <td>mpfi</td>\n",
       "      <td>3.19</td>\n",
       "      <td>3.40</td>\n",
       "      <td>10.0</td>\n",
       "      <td>102</td>\n",
       "      <td>5500</td>\n",
       "      <td>24</td>\n",
       "      <td>30</td>\n",
       "      <td>13950</td>\n",
       "    </tr>\n",
       "    <tr>\n",
       "      <th>4</th>\n",
       "      <td>5</td>\n",
       "      <td>2</td>\n",
       "      <td>audi 100ls</td>\n",
       "      <td>gas</td>\n",
       "      <td>std</td>\n",
       "      <td>4</td>\n",
       "      <td>sedan</td>\n",
       "      <td>4wd</td>\n",
       "      <td>front</td>\n",
       "      <td>99.4</td>\n",
       "      <td>...</td>\n",
       "      <td>136</td>\n",
       "      <td>mpfi</td>\n",
       "      <td>3.19</td>\n",
       "      <td>3.40</td>\n",
       "      <td>8.0</td>\n",
       "      <td>115</td>\n",
       "      <td>5500</td>\n",
       "      <td>18</td>\n",
       "      <td>22</td>\n",
       "      <td>17450</td>\n",
       "    </tr>\n",
       "  </tbody>\n",
       "</table>\n",
       "<p>5 rows × 26 columns</p>\n",
       "</div>"
      ],
      "text/plain": [
       "   car_id  symboling                  car_name fuel_type aspiration  \\\n",
       "0       1          3        alfa-romero giulia       gas        std   \n",
       "1       2          3       alfa-romero stelvio       gas        std   \n",
       "2       3          1  alfa-romero Quadrifoglio       gas        std   \n",
       "3       4          2               audi 100 ls       gas        std   \n",
       "4       5          2                audi 100ls       gas        std   \n",
       "\n",
       "   door_number     car_body drive_wheel engine_location  wheel_base  ...  \\\n",
       "0            2  convertible         rwd           front        88.6  ...   \n",
       "1            2  convertible         rwd           front        88.6  ...   \n",
       "2            2    hatchback         rwd           front        94.5  ...   \n",
       "3            4        sedan         fwd           front        99.8  ...   \n",
       "4            4        sedan         4wd           front        99.4  ...   \n",
       "\n",
       "   engine_size  fuel_system  bore_ratio  stroke compression_ratio horse_power  \\\n",
       "0          130         mpfi        3.47    2.68               9.0         111   \n",
       "1          130         mpfi        3.47    2.68               9.0         111   \n",
       "2          152         mpfi        2.68    3.47               9.0         154   \n",
       "3          109         mpfi        3.19    3.40              10.0         102   \n",
       "4          136         mpfi        3.19    3.40               8.0         115   \n",
       "\n",
       "   peak_rpm city_mpg  highway_mpg  price  \n",
       "0        5K       21           27  13495  \n",
       "1        5K       21           27  16500  \n",
       "2        5K       19           26  16500  \n",
       "3      5500       24           30  13950  \n",
       "4      5500       18           22  17450  \n",
       "\n",
       "[5 rows x 26 columns]"
      ]
     },
     "execution_count": 25,
     "metadata": {},
     "output_type": "execute_result"
    }
   ],
   "source": [
    "df.head()"
   ]
  },
  {
   "cell_type": "code",
   "execution_count": 26,
   "id": "ccfa8fec",
   "metadata": {},
   "outputs": [],
   "source": [
    "df['door_number'] = df['door_number'].astype('int')"
   ]
  },
  {
   "cell_type": "code",
   "execution_count": 27,
   "id": "c49742a3",
   "metadata": {},
   "outputs": [
    {
     "name": "stdout",
     "output_type": "stream",
     "text": [
      "<class 'pandas.core.frame.DataFrame'>\n",
      "RangeIndex: 205 entries, 0 to 204\n",
      "Data columns (total 26 columns):\n",
      " #   Column             Non-Null Count  Dtype  \n",
      "---  ------             --------------  -----  \n",
      " 0   car_id             205 non-null    int64  \n",
      " 1   symboling          205 non-null    int64  \n",
      " 2   car_name           205 non-null    object \n",
      " 3   fuel_type          205 non-null    object \n",
      " 4   aspiration         205 non-null    object \n",
      " 5   door_number        205 non-null    int32  \n",
      " 6   car_body           205 non-null    object \n",
      " 7   drive_wheel        205 non-null    object \n",
      " 8   engine_location    205 non-null    object \n",
      " 9   wheel_base         205 non-null    float64\n",
      " 10  car_length         205 non-null    float64\n",
      " 11  car_width          205 non-null    float64\n",
      " 12  car_height         205 non-null    float64\n",
      " 13  curb_weight        205 non-null    int64  \n",
      " 14  engine_type        205 non-null    object \n",
      " 15  cylinder_number    205 non-null    object \n",
      " 16  engine_size        205 non-null    int64  \n",
      " 17  fuel_system        205 non-null    object \n",
      " 18  bore_ratio         205 non-null    float64\n",
      " 19  stroke             205 non-null    float64\n",
      " 20  compression_ratio  205 non-null    float64\n",
      " 21  horse_power        205 non-null    int64  \n",
      " 22  peak_rpm           205 non-null    object \n",
      " 23  city_mpg           205 non-null    int64  \n",
      " 24  highway_mpg        205 non-null    int64  \n",
      " 25  price              205 non-null    object \n",
      "dtypes: float64(7), int32(1), int64(7), object(11)\n",
      "memory usage: 41.0+ KB\n"
     ]
    }
   ],
   "source": [
    "df.info()"
   ]
  },
  {
   "cell_type": "markdown",
   "id": "1cfc8780",
   "metadata": {},
   "source": [
    "### Fixing peak_rpm"
   ]
  },
  {
   "cell_type": "markdown",
   "id": "1905ebfa",
   "metadata": {},
   "source": [
    "#### Posible Fixes"
   ]
  },
  {
   "cell_type": "markdown",
   "id": "2a8f9955",
   "metadata": {},
   "source": [
    "5K should be replaced with 5000\n",
    "\n",
    "5,500 should be replaced with 5500\n",
    "\n",
    "Convert to numerical column"
   ]
  },
  {
   "cell_type": "code",
   "execution_count": 29,
   "id": "8d1628d3",
   "metadata": {},
   "outputs": [
    {
     "ename": "ValueError",
     "evalue": "invalid literal for int() with base 10: '5,500'",
     "output_type": "error",
     "traceback": [
      "\u001b[1;31m---------------------------------------------------------------------------\u001b[0m",
      "\u001b[1;31mValueError\u001b[0m                                Traceback (most recent call last)",
      "Input \u001b[1;32mIn [29]\u001b[0m, in \u001b[0;36m<cell line: 3>\u001b[1;34m()\u001b[0m\n\u001b[0;32m      1\u001b[0m \u001b[38;5;66;03m## Run the code and understand the output\u001b[39;00m\n\u001b[1;32m----> 3\u001b[0m \u001b[43mdf\u001b[49m\u001b[43m[\u001b[49m\u001b[38;5;124;43m'\u001b[39;49m\u001b[38;5;124;43mpeak_rpm\u001b[39;49m\u001b[38;5;124;43m'\u001b[39;49m\u001b[43m]\u001b[49m\u001b[38;5;241;43m.\u001b[39;49m\u001b[43mapply\u001b[49m\u001b[43m(\u001b[49m\u001b[38;5;28;43;01mlambda\u001b[39;49;00m\u001b[43m \u001b[49m\u001b[43mx\u001b[49m\u001b[43m \u001b[49m\u001b[43m:\u001b[49m\u001b[43m \u001b[49m\u001b[43m(\u001b[49m\u001b[38;5;28;43mint\u001b[39;49m\u001b[43m(\u001b[49m\u001b[43mx\u001b[49m\u001b[38;5;241;43m.\u001b[39;49m\u001b[43mreplace\u001b[49m\u001b[43m(\u001b[49m\u001b[38;5;124;43m'\u001b[39;49m\u001b[38;5;124;43mK\u001b[39;49m\u001b[38;5;124;43m'\u001b[39;49m\u001b[43m,\u001b[49m\u001b[43m \u001b[49m\u001b[38;5;124;43m'\u001b[39;49m\u001b[38;5;124;43m'\u001b[39;49m\u001b[43m)\u001b[49m\u001b[43m)\u001b[49m\u001b[43m \u001b[49m\u001b[38;5;241;43m*\u001b[39;49m\u001b[43m \u001b[49m\u001b[38;5;241;43m1000\u001b[39;49m\u001b[43m)\u001b[49m\u001b[43m \u001b[49m\u001b[38;5;28;43;01mif\u001b[39;49;00m\u001b[43m \u001b[49m\u001b[38;5;124;43m'\u001b[39;49m\u001b[38;5;124;43mK\u001b[39;49m\u001b[38;5;124;43m'\u001b[39;49m\u001b[43m \u001b[49m\u001b[38;5;129;43;01min\u001b[39;49;00m\u001b[43m \u001b[49m\u001b[43mx\u001b[49m\u001b[43m \u001b[49m\u001b[38;5;28;43;01melse\u001b[39;49;00m\u001b[43m \u001b[49m\u001b[38;5;28;43mint\u001b[39;49m\u001b[43m(\u001b[49m\u001b[43mx\u001b[49m\u001b[43m)\u001b[49m\u001b[43m)\u001b[49m\n",
      "File \u001b[1;32m~\\anaconda3\\lib\\site-packages\\pandas\\core\\series.py:4433\u001b[0m, in \u001b[0;36mSeries.apply\u001b[1;34m(self, func, convert_dtype, args, **kwargs)\u001b[0m\n\u001b[0;32m   4323\u001b[0m \u001b[38;5;28;01mdef\u001b[39;00m \u001b[38;5;21mapply\u001b[39m(\n\u001b[0;32m   4324\u001b[0m     \u001b[38;5;28mself\u001b[39m,\n\u001b[0;32m   4325\u001b[0m     func: AggFuncType,\n\u001b[1;32m   (...)\u001b[0m\n\u001b[0;32m   4328\u001b[0m     \u001b[38;5;241m*\u001b[39m\u001b[38;5;241m*\u001b[39mkwargs,\n\u001b[0;32m   4329\u001b[0m ) \u001b[38;5;241m-\u001b[39m\u001b[38;5;241m>\u001b[39m DataFrame \u001b[38;5;241m|\u001b[39m Series:\n\u001b[0;32m   4330\u001b[0m     \u001b[38;5;124;03m\"\"\"\u001b[39;00m\n\u001b[0;32m   4331\u001b[0m \u001b[38;5;124;03m    Invoke function on values of Series.\u001b[39;00m\n\u001b[0;32m   4332\u001b[0m \n\u001b[1;32m   (...)\u001b[0m\n\u001b[0;32m   4431\u001b[0m \u001b[38;5;124;03m    dtype: float64\u001b[39;00m\n\u001b[0;32m   4432\u001b[0m \u001b[38;5;124;03m    \"\"\"\u001b[39;00m\n\u001b[1;32m-> 4433\u001b[0m     \u001b[38;5;28;01mreturn\u001b[39;00m \u001b[43mSeriesApply\u001b[49m\u001b[43m(\u001b[49m\u001b[38;5;28;43mself\u001b[39;49m\u001b[43m,\u001b[49m\u001b[43m \u001b[49m\u001b[43mfunc\u001b[49m\u001b[43m,\u001b[49m\u001b[43m \u001b[49m\u001b[43mconvert_dtype\u001b[49m\u001b[43m,\u001b[49m\u001b[43m \u001b[49m\u001b[43margs\u001b[49m\u001b[43m,\u001b[49m\u001b[43m \u001b[49m\u001b[43mkwargs\u001b[49m\u001b[43m)\u001b[49m\u001b[38;5;241;43m.\u001b[39;49m\u001b[43mapply\u001b[49m\u001b[43m(\u001b[49m\u001b[43m)\u001b[49m\n",
      "File \u001b[1;32m~\\anaconda3\\lib\\site-packages\\pandas\\core\\apply.py:1082\u001b[0m, in \u001b[0;36mSeriesApply.apply\u001b[1;34m(self)\u001b[0m\n\u001b[0;32m   1078\u001b[0m \u001b[38;5;28;01mif\u001b[39;00m \u001b[38;5;28misinstance\u001b[39m(\u001b[38;5;28mself\u001b[39m\u001b[38;5;241m.\u001b[39mf, \u001b[38;5;28mstr\u001b[39m):\n\u001b[0;32m   1079\u001b[0m     \u001b[38;5;66;03m# if we are a string, try to dispatch\u001b[39;00m\n\u001b[0;32m   1080\u001b[0m     \u001b[38;5;28;01mreturn\u001b[39;00m \u001b[38;5;28mself\u001b[39m\u001b[38;5;241m.\u001b[39mapply_str()\n\u001b[1;32m-> 1082\u001b[0m \u001b[38;5;28;01mreturn\u001b[39;00m \u001b[38;5;28;43mself\u001b[39;49m\u001b[38;5;241;43m.\u001b[39;49m\u001b[43mapply_standard\u001b[49m\u001b[43m(\u001b[49m\u001b[43m)\u001b[49m\n",
      "File \u001b[1;32m~\\anaconda3\\lib\\site-packages\\pandas\\core\\apply.py:1137\u001b[0m, in \u001b[0;36mSeriesApply.apply_standard\u001b[1;34m(self)\u001b[0m\n\u001b[0;32m   1131\u001b[0m         values \u001b[38;5;241m=\u001b[39m obj\u001b[38;5;241m.\u001b[39mastype(\u001b[38;5;28mobject\u001b[39m)\u001b[38;5;241m.\u001b[39m_values\n\u001b[0;32m   1132\u001b[0m         \u001b[38;5;66;03m# error: Argument 2 to \"map_infer\" has incompatible type\u001b[39;00m\n\u001b[0;32m   1133\u001b[0m         \u001b[38;5;66;03m# \"Union[Callable[..., Any], str, List[Union[Callable[..., Any], str]],\u001b[39;00m\n\u001b[0;32m   1134\u001b[0m         \u001b[38;5;66;03m# Dict[Hashable, Union[Union[Callable[..., Any], str],\u001b[39;00m\n\u001b[0;32m   1135\u001b[0m         \u001b[38;5;66;03m# List[Union[Callable[..., Any], str]]]]]\"; expected\u001b[39;00m\n\u001b[0;32m   1136\u001b[0m         \u001b[38;5;66;03m# \"Callable[[Any], Any]\"\u001b[39;00m\n\u001b[1;32m-> 1137\u001b[0m         mapped \u001b[38;5;241m=\u001b[39m \u001b[43mlib\u001b[49m\u001b[38;5;241;43m.\u001b[39;49m\u001b[43mmap_infer\u001b[49m\u001b[43m(\u001b[49m\n\u001b[0;32m   1138\u001b[0m \u001b[43m            \u001b[49m\u001b[43mvalues\u001b[49m\u001b[43m,\u001b[49m\n\u001b[0;32m   1139\u001b[0m \u001b[43m            \u001b[49m\u001b[43mf\u001b[49m\u001b[43m,\u001b[49m\u001b[43m  \u001b[49m\u001b[38;5;66;43;03m# type: ignore[arg-type]\u001b[39;49;00m\n\u001b[0;32m   1140\u001b[0m \u001b[43m            \u001b[49m\u001b[43mconvert\u001b[49m\u001b[38;5;241;43m=\u001b[39;49m\u001b[38;5;28;43mself\u001b[39;49m\u001b[38;5;241;43m.\u001b[39;49m\u001b[43mconvert_dtype\u001b[49m\u001b[43m,\u001b[49m\n\u001b[0;32m   1141\u001b[0m \u001b[43m        \u001b[49m\u001b[43m)\u001b[49m\n\u001b[0;32m   1143\u001b[0m \u001b[38;5;28;01mif\u001b[39;00m \u001b[38;5;28mlen\u001b[39m(mapped) \u001b[38;5;129;01mand\u001b[39;00m \u001b[38;5;28misinstance\u001b[39m(mapped[\u001b[38;5;241m0\u001b[39m], ABCSeries):\n\u001b[0;32m   1144\u001b[0m     \u001b[38;5;66;03m# GH#43986 Need to do list(mapped) in order to get treated as nested\u001b[39;00m\n\u001b[0;32m   1145\u001b[0m     \u001b[38;5;66;03m#  See also GH#25959 regarding EA support\u001b[39;00m\n\u001b[0;32m   1146\u001b[0m     \u001b[38;5;28;01mreturn\u001b[39;00m obj\u001b[38;5;241m.\u001b[39m_constructor_expanddim(\u001b[38;5;28mlist\u001b[39m(mapped), index\u001b[38;5;241m=\u001b[39mobj\u001b[38;5;241m.\u001b[39mindex)\n",
      "File \u001b[1;32m~\\anaconda3\\lib\\site-packages\\pandas\\_libs\\lib.pyx:2870\u001b[0m, in \u001b[0;36mpandas._libs.lib.map_infer\u001b[1;34m()\u001b[0m\n",
      "Input \u001b[1;32mIn [29]\u001b[0m, in \u001b[0;36m<lambda>\u001b[1;34m(x)\u001b[0m\n\u001b[0;32m      1\u001b[0m \u001b[38;5;66;03m## Run the code and understand the output\u001b[39;00m\n\u001b[1;32m----> 3\u001b[0m df[\u001b[38;5;124m'\u001b[39m\u001b[38;5;124mpeak_rpm\u001b[39m\u001b[38;5;124m'\u001b[39m]\u001b[38;5;241m.\u001b[39mapply(\u001b[38;5;28;01mlambda\u001b[39;00m x : (\u001b[38;5;28mint\u001b[39m(x\u001b[38;5;241m.\u001b[39mreplace(\u001b[38;5;124m'\u001b[39m\u001b[38;5;124mK\u001b[39m\u001b[38;5;124m'\u001b[39m, \u001b[38;5;124m'\u001b[39m\u001b[38;5;124m'\u001b[39m)) \u001b[38;5;241m*\u001b[39m \u001b[38;5;241m1000\u001b[39m) \u001b[38;5;28;01mif\u001b[39;00m \u001b[38;5;124m'\u001b[39m\u001b[38;5;124mK\u001b[39m\u001b[38;5;124m'\u001b[39m \u001b[38;5;129;01min\u001b[39;00m x \u001b[38;5;28;01melse\u001b[39;00m \u001b[38;5;28;43mint\u001b[39;49m\u001b[43m(\u001b[49m\u001b[43mx\u001b[49m\u001b[43m)\u001b[49m)\n",
      "\u001b[1;31mValueError\u001b[0m: invalid literal for int() with base 10: '5,500'"
     ]
    }
   ],
   "source": [
    "## Run the code and understand the output\n",
    "\n",
    "df['peak_rpm'].apply(lambda x : (int(x.replace('K', '')) * 1000) if 'K' in x else int(x))"
   ]
  },
  {
   "cell_type": "code",
   "execution_count": 30,
   "id": "e5b73430",
   "metadata": {},
   "outputs": [
    {
     "data": {
      "text/plain": [
       "0      5000\n",
       "1      5000\n",
       "2      5000\n",
       "3      5500\n",
       "4      5500\n",
       "       ... \n",
       "200    5400\n",
       "201    5300\n",
       "202    5500\n",
       "203    4800\n",
       "204    5400\n",
       "Name: peak_rpm, Length: 205, dtype: int64"
      ]
     },
     "execution_count": 30,
     "metadata": {},
     "output_type": "execute_result"
    }
   ],
   "source": [
    "df['peak_rpm'].apply(lambda x : (int(x.replace('K', '')) * 1000) if 'K' in x else int(x.replace(',', '')) if ',' in x else int(x))"
   ]
  },
  {
   "cell_type": "code",
   "execution_count": 31,
   "id": "6fdf59de",
   "metadata": {},
   "outputs": [],
   "source": [
    "df['peak_rpm'] = df['peak_rpm'].apply(lambda x : (int(x.replace('K', '')) * 1000) if 'K' in x else int(x.replace(',', '')) if ',' in x else int(x))"
   ]
  },
  {
   "cell_type": "code",
   "execution_count": 32,
   "id": "91a1fe33",
   "metadata": {},
   "outputs": [],
   "source": [
    "df['peak_rpm'] = df['peak_rpm'].astype('int')"
   ]
  },
  {
   "cell_type": "code",
   "execution_count": 33,
   "id": "6480333e",
   "metadata": {},
   "outputs": [
    {
     "name": "stdout",
     "output_type": "stream",
     "text": [
      "<class 'pandas.core.frame.DataFrame'>\n",
      "RangeIndex: 205 entries, 0 to 204\n",
      "Data columns (total 26 columns):\n",
      " #   Column             Non-Null Count  Dtype  \n",
      "---  ------             --------------  -----  \n",
      " 0   car_id             205 non-null    int64  \n",
      " 1   symboling          205 non-null    int64  \n",
      " 2   car_name           205 non-null    object \n",
      " 3   fuel_type          205 non-null    object \n",
      " 4   aspiration         205 non-null    object \n",
      " 5   door_number        205 non-null    int32  \n",
      " 6   car_body           205 non-null    object \n",
      " 7   drive_wheel        205 non-null    object \n",
      " 8   engine_location    205 non-null    object \n",
      " 9   wheel_base         205 non-null    float64\n",
      " 10  car_length         205 non-null    float64\n",
      " 11  car_width          205 non-null    float64\n",
      " 12  car_height         205 non-null    float64\n",
      " 13  curb_weight        205 non-null    int64  \n",
      " 14  engine_type        205 non-null    object \n",
      " 15  cylinder_number    205 non-null    object \n",
      " 16  engine_size        205 non-null    int64  \n",
      " 17  fuel_system        205 non-null    object \n",
      " 18  bore_ratio         205 non-null    float64\n",
      " 19  stroke             205 non-null    float64\n",
      " 20  compression_ratio  205 non-null    float64\n",
      " 21  horse_power        205 non-null    int64  \n",
      " 22  peak_rpm           205 non-null    int32  \n",
      " 23  city_mpg           205 non-null    int64  \n",
      " 24  highway_mpg        205 non-null    int64  \n",
      " 25  price              205 non-null    object \n",
      "dtypes: float64(7), int32(2), int64(7), object(10)\n",
      "memory usage: 40.2+ KB\n"
     ]
    }
   ],
   "source": [
    "df.info()"
   ]
  },
  {
   "cell_type": "code",
   "execution_count": 34,
   "id": "1b4c453c",
   "metadata": {},
   "outputs": [
    {
     "data": {
      "text/plain": [
       "four      159\n",
       "six        24\n",
       "five       11\n",
       "eight       5\n",
       "two         4\n",
       "three       1\n",
       "twelve      1\n",
       "Name: cylinder_number, dtype: int64"
      ]
     },
     "execution_count": 34,
     "metadata": {},
     "output_type": "execute_result"
    }
   ],
   "source": [
    "df.cylinder_number.value_counts()"
   ]
  },
  {
   "cell_type": "markdown",
   "id": "94591a74",
   "metadata": {},
   "source": [
    "### Fixing car_name"
   ]
  },
  {
   "cell_type": "markdown",
   "id": "bee7f11f",
   "metadata": {},
   "source": [
    "#### Posible Fixes"
   ]
  },
  {
   "cell_type": "markdown",
   "id": "2ae55e91",
   "metadata": {},
   "source": [
    "Extract Company Name from car name\n",
    "\n",
    "Observe problems in Company Names"
   ]
  },
  {
   "cell_type": "code",
   "execution_count": 35,
   "id": "1c5c583f",
   "metadata": {},
   "outputs": [
    {
     "data": {
      "text/html": [
       "<div>\n",
       "<style scoped>\n",
       "    .dataframe tbody tr th:only-of-type {\n",
       "        vertical-align: middle;\n",
       "    }\n",
       "\n",
       "    .dataframe tbody tr th {\n",
       "        vertical-align: top;\n",
       "    }\n",
       "\n",
       "    .dataframe thead th {\n",
       "        text-align: right;\n",
       "    }\n",
       "</style>\n",
       "<table border=\"1\" class=\"dataframe\">\n",
       "  <thead>\n",
       "    <tr style=\"text-align: right;\">\n",
       "      <th></th>\n",
       "      <th>car_id</th>\n",
       "      <th>symboling</th>\n",
       "      <th>car_name</th>\n",
       "      <th>fuel_type</th>\n",
       "      <th>aspiration</th>\n",
       "      <th>door_number</th>\n",
       "      <th>car_body</th>\n",
       "      <th>drive_wheel</th>\n",
       "      <th>engine_location</th>\n",
       "      <th>wheel_base</th>\n",
       "      <th>...</th>\n",
       "      <th>engine_size</th>\n",
       "      <th>fuel_system</th>\n",
       "      <th>bore_ratio</th>\n",
       "      <th>stroke</th>\n",
       "      <th>compression_ratio</th>\n",
       "      <th>horse_power</th>\n",
       "      <th>peak_rpm</th>\n",
       "      <th>city_mpg</th>\n",
       "      <th>highway_mpg</th>\n",
       "      <th>price</th>\n",
       "    </tr>\n",
       "  </thead>\n",
       "  <tbody>\n",
       "    <tr>\n",
       "      <th>0</th>\n",
       "      <td>1</td>\n",
       "      <td>3</td>\n",
       "      <td>alfa-romero giulia</td>\n",
       "      <td>gas</td>\n",
       "      <td>std</td>\n",
       "      <td>2</td>\n",
       "      <td>convertible</td>\n",
       "      <td>rwd</td>\n",
       "      <td>front</td>\n",
       "      <td>88.6</td>\n",
       "      <td>...</td>\n",
       "      <td>130</td>\n",
       "      <td>mpfi</td>\n",
       "      <td>3.47</td>\n",
       "      <td>2.68</td>\n",
       "      <td>9.0</td>\n",
       "      <td>111</td>\n",
       "      <td>5000</td>\n",
       "      <td>21</td>\n",
       "      <td>27</td>\n",
       "      <td>13495</td>\n",
       "    </tr>\n",
       "    <tr>\n",
       "      <th>1</th>\n",
       "      <td>2</td>\n",
       "      <td>3</td>\n",
       "      <td>alfa-romero stelvio</td>\n",
       "      <td>gas</td>\n",
       "      <td>std</td>\n",
       "      <td>2</td>\n",
       "      <td>convertible</td>\n",
       "      <td>rwd</td>\n",
       "      <td>front</td>\n",
       "      <td>88.6</td>\n",
       "      <td>...</td>\n",
       "      <td>130</td>\n",
       "      <td>mpfi</td>\n",
       "      <td>3.47</td>\n",
       "      <td>2.68</td>\n",
       "      <td>9.0</td>\n",
       "      <td>111</td>\n",
       "      <td>5000</td>\n",
       "      <td>21</td>\n",
       "      <td>27</td>\n",
       "      <td>16500</td>\n",
       "    </tr>\n",
       "    <tr>\n",
       "      <th>2</th>\n",
       "      <td>3</td>\n",
       "      <td>1</td>\n",
       "      <td>alfa-romero Quadrifoglio</td>\n",
       "      <td>gas</td>\n",
       "      <td>std</td>\n",
       "      <td>2</td>\n",
       "      <td>hatchback</td>\n",
       "      <td>rwd</td>\n",
       "      <td>front</td>\n",
       "      <td>94.5</td>\n",
       "      <td>...</td>\n",
       "      <td>152</td>\n",
       "      <td>mpfi</td>\n",
       "      <td>2.68</td>\n",
       "      <td>3.47</td>\n",
       "      <td>9.0</td>\n",
       "      <td>154</td>\n",
       "      <td>5000</td>\n",
       "      <td>19</td>\n",
       "      <td>26</td>\n",
       "      <td>16500</td>\n",
       "    </tr>\n",
       "    <tr>\n",
       "      <th>3</th>\n",
       "      <td>4</td>\n",
       "      <td>2</td>\n",
       "      <td>audi 100 ls</td>\n",
       "      <td>gas</td>\n",
       "      <td>std</td>\n",
       "      <td>4</td>\n",
       "      <td>sedan</td>\n",
       "      <td>fwd</td>\n",
       "      <td>front</td>\n",
       "      <td>99.8</td>\n",
       "      <td>...</td>\n",
       "      <td>109</td>\n",
       "      <td>mpfi</td>\n",
       "      <td>3.19</td>\n",
       "      <td>3.40</td>\n",
       "      <td>10.0</td>\n",
       "      <td>102</td>\n",
       "      <td>5500</td>\n",
       "      <td>24</td>\n",
       "      <td>30</td>\n",
       "      <td>13950</td>\n",
       "    </tr>\n",
       "    <tr>\n",
       "      <th>4</th>\n",
       "      <td>5</td>\n",
       "      <td>2</td>\n",
       "      <td>audi 100ls</td>\n",
       "      <td>gas</td>\n",
       "      <td>std</td>\n",
       "      <td>4</td>\n",
       "      <td>sedan</td>\n",
       "      <td>4wd</td>\n",
       "      <td>front</td>\n",
       "      <td>99.4</td>\n",
       "      <td>...</td>\n",
       "      <td>136</td>\n",
       "      <td>mpfi</td>\n",
       "      <td>3.19</td>\n",
       "      <td>3.40</td>\n",
       "      <td>8.0</td>\n",
       "      <td>115</td>\n",
       "      <td>5500</td>\n",
       "      <td>18</td>\n",
       "      <td>22</td>\n",
       "      <td>17450</td>\n",
       "    </tr>\n",
       "  </tbody>\n",
       "</table>\n",
       "<p>5 rows × 26 columns</p>\n",
       "</div>"
      ],
      "text/plain": [
       "   car_id  symboling                  car_name fuel_type aspiration  \\\n",
       "0       1          3        alfa-romero giulia       gas        std   \n",
       "1       2          3       alfa-romero stelvio       gas        std   \n",
       "2       3          1  alfa-romero Quadrifoglio       gas        std   \n",
       "3       4          2               audi 100 ls       gas        std   \n",
       "4       5          2                audi 100ls       gas        std   \n",
       "\n",
       "   door_number     car_body drive_wheel engine_location  wheel_base  ...  \\\n",
       "0            2  convertible         rwd           front        88.6  ...   \n",
       "1            2  convertible         rwd           front        88.6  ...   \n",
       "2            2    hatchback         rwd           front        94.5  ...   \n",
       "3            4        sedan         fwd           front        99.8  ...   \n",
       "4            4        sedan         4wd           front        99.4  ...   \n",
       "\n",
       "   engine_size  fuel_system  bore_ratio  stroke compression_ratio horse_power  \\\n",
       "0          130         mpfi        3.47    2.68               9.0         111   \n",
       "1          130         mpfi        3.47    2.68               9.0         111   \n",
       "2          152         mpfi        2.68    3.47               9.0         154   \n",
       "3          109         mpfi        3.19    3.40              10.0         102   \n",
       "4          136         mpfi        3.19    3.40               8.0         115   \n",
       "\n",
       "   peak_rpm city_mpg  highway_mpg  price  \n",
       "0      5000       21           27  13495  \n",
       "1      5000       21           27  16500  \n",
       "2      5000       19           26  16500  \n",
       "3      5500       24           30  13950  \n",
       "4      5500       18           22  17450  \n",
       "\n",
       "[5 rows x 26 columns]"
      ]
     },
     "execution_count": 35,
     "metadata": {},
     "output_type": "execute_result"
    }
   ],
   "source": [
    "df.head()"
   ]
  },
  {
   "cell_type": "code",
   "execution_count": 36,
   "id": "3b89dbb0",
   "metadata": {},
   "outputs": [
    {
     "data": {
      "text/plain": [
       "0            alfa-romero giulia\n",
       "1           alfa-romero stelvio\n",
       "2      alfa-romero Quadrifoglio\n",
       "3                   audi 100 ls\n",
       "4                    audi 100ls\n",
       "                 ...           \n",
       "200             volvo 145e (sw)\n",
       "201                 volvo 144ea\n",
       "202                 volvo 244dl\n",
       "203                   volvo 246\n",
       "204                 volvo 264gl\n",
       "Name: car_name, Length: 205, dtype: object"
      ]
     },
     "execution_count": 36,
     "metadata": {},
     "output_type": "execute_result"
    }
   ],
   "source": [
    "df.car_name"
   ]
  },
  {
   "cell_type": "code",
   "execution_count": 37,
   "id": "ec07cae4",
   "metadata": {},
   "outputs": [
    {
     "data": {
      "text/plain": [
       "0           alfa-romero giulia\n",
       "1          alfa-romero stelvio\n",
       "2     alfa-romero Quadrifoglio\n",
       "3                  audi 100 ls\n",
       "4                   audi 100ls\n",
       "5                     audi fox\n",
       "6                   audi 100ls\n",
       "7                    audi 5000\n",
       "8                    audi 4000\n",
       "9          audi 5000s (diesel)\n",
       "10                    bmw 320i\n",
       "11                    bmw 320i\n",
       "12                      bmw x1\n",
       "13                      bmw x3\n",
       "14                      bmw z4\n",
       "15                      bmw x4\n",
       "16                      bmw x5\n",
       "17                      bmw x3\n",
       "18            chevrolet impala\n",
       "19       chevrolet monte carlo\n",
       "Name: car_name, dtype: object"
      ]
     },
     "execution_count": 37,
     "metadata": {},
     "output_type": "execute_result"
    }
   ],
   "source": [
    "df.car_name[:20]"
   ]
  },
  {
   "cell_type": "code",
   "execution_count": 38,
   "id": "4a66acd8",
   "metadata": {},
   "outputs": [
    {
     "data": {
      "text/plain": [
       "0            [alfa-romero, giulia]\n",
       "1           [alfa-romero, stelvio]\n",
       "2      [alfa-romero, Quadrifoglio]\n",
       "3                  [audi, 100, ls]\n",
       "4                    [audi, 100ls]\n",
       "                  ...             \n",
       "200            [volvo, 145e, (sw)]\n",
       "201                 [volvo, 144ea]\n",
       "202                 [volvo, 244dl]\n",
       "203                   [volvo, 246]\n",
       "204                 [volvo, 264gl]\n",
       "Name: car_name, Length: 205, dtype: object"
      ]
     },
     "execution_count": 38,
     "metadata": {},
     "output_type": "execute_result"
    }
   ],
   "source": [
    "df.car_name.apply(lambda x : x.split())"
   ]
  },
  {
   "cell_type": "code",
   "execution_count": 39,
   "id": "89a9ccbc",
   "metadata": {},
   "outputs": [
    {
     "data": {
      "text/plain": [
       "0      alfa-romero\n",
       "1      alfa-romero\n",
       "2      alfa-romero\n",
       "3             audi\n",
       "4             audi\n",
       "          ...     \n",
       "200          volvo\n",
       "201          volvo\n",
       "202          volvo\n",
       "203          volvo\n",
       "204          volvo\n",
       "Name: car_name, Length: 205, dtype: object"
      ]
     },
     "execution_count": 39,
     "metadata": {},
     "output_type": "execute_result"
    }
   ],
   "source": [
    "df.car_name.apply(lambda x : x.split()[0])"
   ]
  },
  {
   "cell_type": "code",
   "execution_count": 40,
   "id": "f1e8bc50",
   "metadata": {},
   "outputs": [],
   "source": [
    "df['car_company'] = df.car_name.apply(lambda x : x.split()[0])"
   ]
  },
  {
   "cell_type": "code",
   "execution_count": 41,
   "id": "f9d7a006",
   "metadata": {},
   "outputs": [
    {
     "data": {
      "text/plain": [
       "toyota         31\n",
       "nissan         17\n",
       "mazda          15\n",
       "honda          13\n",
       "mitsubishi     13\n",
       "subaru         12\n",
       "peugeot        11\n",
       "volvo          11\n",
       "volkswagen      9\n",
       "dodge           9\n",
       "buick           8\n",
       "bmw             8\n",
       "audi            7\n",
       "plymouth        7\n",
       "saab            6\n",
       "isuzu           4\n",
       "porsche         4\n",
       "alfa-romero     3\n",
       "chevrolet       3\n",
       "jaguar          3\n",
       "vw              2\n",
       "maxda           2\n",
       "renault         2\n",
       "toyouta         1\n",
       "vokswagen       1\n",
       "Nissan          1\n",
       "mercury         1\n",
       "porcshce        1\n",
       "Name: car_company, dtype: int64"
      ]
     },
     "execution_count": 41,
     "metadata": {},
     "output_type": "execute_result"
    }
   ],
   "source": [
    "df.car_company.value_counts()"
   ]
  },
  {
   "cell_type": "markdown",
   "id": "a550b76a",
   "metadata": {},
   "source": [
    "### Observations"
   ]
  },
  {
   "cell_type": "markdown",
   "id": "40d485db",
   "metadata": {},
   "source": [
    "### Notice that some car_company names are misspelled"
   ]
  },
  {
   "cell_type": "markdown",
   "id": "dfc574c3",
   "metadata": {},
   "source": [
    "vw and vokswagen should be volkswagen\n",
    "\n",
    "porcshce should be porsche\n",
    "\n",
    "toyouta should be toyota\n",
    "\n",
    "Nissan should be nissan\n",
    "\n",
    "maxda should be mazda\n",
    "\n",
    "This is a data quality issue, let's solve it."
   ]
  },
  {
   "cell_type": "code",
   "execution_count": 44,
   "id": "f2cae889",
   "metadata": {},
   "outputs": [],
   "source": [
    "# replacing misspelled car_company names\n",
    "\n",
    "# volkswagen\n",
    "df.loc[(df['car_company'] == \"vw\") | (df['car_company'] == \"vokswagen\"), 'car_company'] = 'volkswagen'\n",
    "\n",
    "# porsche\n",
    "df.loc[df['car_company'] == \"porcshce\", 'car_company'] = 'porsche'\n",
    "\n",
    "# toyota\n",
    "df.loc[df['car_company'] == \"toyouta\", 'car_company'] = 'toyota'\n",
    "\n",
    "# nissan\n",
    "df.loc[df['car_company'] == \"Nissan\", 'car_company'] = 'nissan'\n",
    "\n",
    "# mazda\n",
    "df.loc[df['car_company'] == \"maxda\", 'car_company'] = 'mazda'"
   ]
  },
  {
   "cell_type": "code",
   "execution_count": 45,
   "id": "24503a0a",
   "metadata": {},
   "outputs": [],
   "source": [
    "# df['car_company'].apply(lambda x : \"volkswagen\" if x == \"vw\" or x == \"vokswagen\" else \n",
    "#                        \"porsche\" if x == \"porcshce\" else\n",
    "#                        \"toyota\" if x == \"toyouta\" else\n",
    "#                        \"nissan\" if x == \"Nissan\" else\n",
    "#                        \"mazda\" if x == \"maxda\" else x)"
   ]
  },
  {
   "cell_type": "code",
   "execution_count": 46,
   "id": "507d4941",
   "metadata": {},
   "outputs": [],
   "source": [
    "# company_dictionary = {\n",
    "#                       \"vw\" : \"volkswagen\", \n",
    "#                       \"vokswagen\" : \"volkswagen\", \n",
    "#                       \"porcshce\" : \"porsche\", \n",
    "#                       \"toyouta\" : \"toyota\", \n",
    "#                       \"Nissan\" : \"nissan\",\n",
    "#                       \"maxda\" : \"mazda\"\n",
    "#                       }\n",
    "\n",
    "# df['car_company'].apply(lambda x : company_dictionary[x] if x in company_dictionary.keys() else x).value_counts()"
   ]
  },
  {
   "cell_type": "code",
   "execution_count": 47,
   "id": "94a3367d",
   "metadata": {},
   "outputs": [
    {
     "data": {
      "text/plain": [
       "toyota         32\n",
       "nissan         18\n",
       "mazda          17\n",
       "mitsubishi     13\n",
       "honda          13\n",
       "volkswagen     12\n",
       "subaru         12\n",
       "peugeot        11\n",
       "volvo          11\n",
       "dodge           9\n",
       "buick           8\n",
       "bmw             8\n",
       "audi            7\n",
       "plymouth        7\n",
       "saab            6\n",
       "porsche         5\n",
       "isuzu           4\n",
       "jaguar          3\n",
       "chevrolet       3\n",
       "alfa-romero     3\n",
       "renault         2\n",
       "mercury         1\n",
       "Name: car_company, dtype: int64"
      ]
     },
     "execution_count": 47,
     "metadata": {},
     "output_type": "execute_result"
    }
   ],
   "source": [
    "df.car_company.value_counts()"
   ]
  },
  {
   "cell_type": "markdown",
   "id": "fffab1a4",
   "metadata": {},
   "source": [
    "### Dropping a column"
   ]
  },
  {
   "cell_type": "code",
   "execution_count": 48,
   "id": "3632bf53",
   "metadata": {},
   "outputs": [
    {
     "data": {
      "text/plain": [
       "Index(['car_id', 'symboling', 'car_name', 'fuel_type', 'aspiration',\n",
       "       'door_number', 'car_body', 'drive_wheel', 'engine_location',\n",
       "       'wheel_base', 'car_length', 'car_width', 'car_height', 'curb_weight',\n",
       "       'engine_type', 'cylinder_number', 'engine_size', 'fuel_system',\n",
       "       'bore_ratio', 'stroke', 'compression_ratio', 'horse_power', 'peak_rpm',\n",
       "       'city_mpg', 'highway_mpg', 'price', 'car_company'],\n",
       "      dtype='object')"
      ]
     },
     "execution_count": 48,
     "metadata": {},
     "output_type": "execute_result"
    }
   ],
   "source": [
    "df.columns"
   ]
  },
  {
   "cell_type": "code",
   "execution_count": 49,
   "id": "a19aa8b3",
   "metadata": {},
   "outputs": [
    {
     "data": {
      "text/plain": [
       "Index(['car_id', 'symboling', 'fuel_type', 'aspiration', 'door_number',\n",
       "       'car_body', 'drive_wheel', 'engine_location', 'wheel_base',\n",
       "       'car_length', 'car_width', 'car_height', 'curb_weight', 'engine_type',\n",
       "       'cylinder_number', 'engine_size', 'fuel_system', 'bore_ratio', 'stroke',\n",
       "       'compression_ratio', 'horse_power', 'peak_rpm', 'city_mpg',\n",
       "       'highway_mpg', 'price', 'car_company'],\n",
       "      dtype='object')"
      ]
     },
     "execution_count": 49,
     "metadata": {},
     "output_type": "execute_result"
    }
   ],
   "source": [
    "df.drop('car_name', axis=1, inplace=True)\n",
    "\n",
    "df.columns"
   ]
  },
  {
   "cell_type": "markdown",
   "id": "1488dd6d",
   "metadata": {},
   "source": [
    "### Filtering Categorical and Numerical Columns"
   ]
  },
  {
   "cell_type": "code",
   "execution_count": 50,
   "id": "b455a685",
   "metadata": {},
   "outputs": [
    {
     "data": {
      "text/html": [
       "<div>\n",
       "<style scoped>\n",
       "    .dataframe tbody tr th:only-of-type {\n",
       "        vertical-align: middle;\n",
       "    }\n",
       "\n",
       "    .dataframe tbody tr th {\n",
       "        vertical-align: top;\n",
       "    }\n",
       "\n",
       "    .dataframe thead th {\n",
       "        text-align: right;\n",
       "    }\n",
       "</style>\n",
       "<table border=\"1\" class=\"dataframe\">\n",
       "  <thead>\n",
       "    <tr style=\"text-align: right;\">\n",
       "      <th></th>\n",
       "      <th>fuel_type</th>\n",
       "      <th>aspiration</th>\n",
       "      <th>car_body</th>\n",
       "      <th>drive_wheel</th>\n",
       "      <th>engine_location</th>\n",
       "      <th>engine_type</th>\n",
       "      <th>cylinder_number</th>\n",
       "      <th>fuel_system</th>\n",
       "      <th>price</th>\n",
       "      <th>car_company</th>\n",
       "    </tr>\n",
       "  </thead>\n",
       "  <tbody>\n",
       "    <tr>\n",
       "      <th>0</th>\n",
       "      <td>gas</td>\n",
       "      <td>std</td>\n",
       "      <td>convertible</td>\n",
       "      <td>rwd</td>\n",
       "      <td>front</td>\n",
       "      <td>dohc</td>\n",
       "      <td>four</td>\n",
       "      <td>mpfi</td>\n",
       "      <td>13495</td>\n",
       "      <td>alfa-romero</td>\n",
       "    </tr>\n",
       "    <tr>\n",
       "      <th>1</th>\n",
       "      <td>gas</td>\n",
       "      <td>std</td>\n",
       "      <td>convertible</td>\n",
       "      <td>rwd</td>\n",
       "      <td>front</td>\n",
       "      <td>dohc</td>\n",
       "      <td>four</td>\n",
       "      <td>mpfi</td>\n",
       "      <td>16500</td>\n",
       "      <td>alfa-romero</td>\n",
       "    </tr>\n",
       "    <tr>\n",
       "      <th>2</th>\n",
       "      <td>gas</td>\n",
       "      <td>std</td>\n",
       "      <td>hatchback</td>\n",
       "      <td>rwd</td>\n",
       "      <td>front</td>\n",
       "      <td>ohcv</td>\n",
       "      <td>six</td>\n",
       "      <td>mpfi</td>\n",
       "      <td>16500</td>\n",
       "      <td>alfa-romero</td>\n",
       "    </tr>\n",
       "    <tr>\n",
       "      <th>3</th>\n",
       "      <td>gas</td>\n",
       "      <td>std</td>\n",
       "      <td>sedan</td>\n",
       "      <td>fwd</td>\n",
       "      <td>front</td>\n",
       "      <td>ohc</td>\n",
       "      <td>four</td>\n",
       "      <td>mpfi</td>\n",
       "      <td>13950</td>\n",
       "      <td>audi</td>\n",
       "    </tr>\n",
       "    <tr>\n",
       "      <th>4</th>\n",
       "      <td>gas</td>\n",
       "      <td>std</td>\n",
       "      <td>sedan</td>\n",
       "      <td>4wd</td>\n",
       "      <td>front</td>\n",
       "      <td>ohc</td>\n",
       "      <td>five</td>\n",
       "      <td>mpfi</td>\n",
       "      <td>17450</td>\n",
       "      <td>audi</td>\n",
       "    </tr>\n",
       "  </tbody>\n",
       "</table>\n",
       "</div>"
      ],
      "text/plain": [
       "  fuel_type aspiration     car_body drive_wheel engine_location engine_type  \\\n",
       "0       gas        std  convertible         rwd           front        dohc   \n",
       "1       gas        std  convertible         rwd           front        dohc   \n",
       "2       gas        std    hatchback         rwd           front        ohcv   \n",
       "3       gas        std        sedan         fwd           front         ohc   \n",
       "4       gas        std        sedan         4wd           front         ohc   \n",
       "\n",
       "  cylinder_number fuel_system  price  car_company  \n",
       "0            four        mpfi  13495  alfa-romero  \n",
       "1            four        mpfi  16500  alfa-romero  \n",
       "2             six        mpfi  16500  alfa-romero  \n",
       "3            four        mpfi  13950         audi  \n",
       "4            five        mpfi  17450         audi  "
      ]
     },
     "execution_count": 50,
     "metadata": {},
     "output_type": "execute_result"
    }
   ],
   "source": [
    "categorical_df = df.select_dtypes(include=['object'])\n",
    "\n",
    "categorical_df.head()"
   ]
  },
  {
   "cell_type": "code",
   "execution_count": 51,
   "id": "09dd89f0",
   "metadata": {},
   "outputs": [
    {
     "data": {
      "text/html": [
       "<div>\n",
       "<style scoped>\n",
       "    .dataframe tbody tr th:only-of-type {\n",
       "        vertical-align: middle;\n",
       "    }\n",
       "\n",
       "    .dataframe tbody tr th {\n",
       "        vertical-align: top;\n",
       "    }\n",
       "\n",
       "    .dataframe thead th {\n",
       "        text-align: right;\n",
       "    }\n",
       "</style>\n",
       "<table border=\"1\" class=\"dataframe\">\n",
       "  <thead>\n",
       "    <tr style=\"text-align: right;\">\n",
       "      <th></th>\n",
       "      <th>car_id</th>\n",
       "      <th>symboling</th>\n",
       "      <th>wheel_base</th>\n",
       "      <th>car_length</th>\n",
       "      <th>car_width</th>\n",
       "      <th>car_height</th>\n",
       "      <th>curb_weight</th>\n",
       "      <th>engine_size</th>\n",
       "      <th>bore_ratio</th>\n",
       "      <th>stroke</th>\n",
       "      <th>compression_ratio</th>\n",
       "      <th>horse_power</th>\n",
       "      <th>city_mpg</th>\n",
       "      <th>highway_mpg</th>\n",
       "    </tr>\n",
       "  </thead>\n",
       "  <tbody>\n",
       "    <tr>\n",
       "      <th>0</th>\n",
       "      <td>1</td>\n",
       "      <td>3</td>\n",
       "      <td>88.6</td>\n",
       "      <td>168.8</td>\n",
       "      <td>64.1</td>\n",
       "      <td>48.8</td>\n",
       "      <td>2548</td>\n",
       "      <td>130</td>\n",
       "      <td>3.47</td>\n",
       "      <td>2.68</td>\n",
       "      <td>9.0</td>\n",
       "      <td>111</td>\n",
       "      <td>21</td>\n",
       "      <td>27</td>\n",
       "    </tr>\n",
       "    <tr>\n",
       "      <th>1</th>\n",
       "      <td>2</td>\n",
       "      <td>3</td>\n",
       "      <td>88.6</td>\n",
       "      <td>168.8</td>\n",
       "      <td>64.1</td>\n",
       "      <td>48.8</td>\n",
       "      <td>2548</td>\n",
       "      <td>130</td>\n",
       "      <td>3.47</td>\n",
       "      <td>2.68</td>\n",
       "      <td>9.0</td>\n",
       "      <td>111</td>\n",
       "      <td>21</td>\n",
       "      <td>27</td>\n",
       "    </tr>\n",
       "    <tr>\n",
       "      <th>2</th>\n",
       "      <td>3</td>\n",
       "      <td>1</td>\n",
       "      <td>94.5</td>\n",
       "      <td>171.2</td>\n",
       "      <td>65.5</td>\n",
       "      <td>52.4</td>\n",
       "      <td>2823</td>\n",
       "      <td>152</td>\n",
       "      <td>2.68</td>\n",
       "      <td>3.47</td>\n",
       "      <td>9.0</td>\n",
       "      <td>154</td>\n",
       "      <td>19</td>\n",
       "      <td>26</td>\n",
       "    </tr>\n",
       "    <tr>\n",
       "      <th>3</th>\n",
       "      <td>4</td>\n",
       "      <td>2</td>\n",
       "      <td>99.8</td>\n",
       "      <td>176.6</td>\n",
       "      <td>66.2</td>\n",
       "      <td>54.3</td>\n",
       "      <td>2337</td>\n",
       "      <td>109</td>\n",
       "      <td>3.19</td>\n",
       "      <td>3.40</td>\n",
       "      <td>10.0</td>\n",
       "      <td>102</td>\n",
       "      <td>24</td>\n",
       "      <td>30</td>\n",
       "    </tr>\n",
       "    <tr>\n",
       "      <th>4</th>\n",
       "      <td>5</td>\n",
       "      <td>2</td>\n",
       "      <td>99.4</td>\n",
       "      <td>176.6</td>\n",
       "      <td>66.4</td>\n",
       "      <td>54.3</td>\n",
       "      <td>2824</td>\n",
       "      <td>136</td>\n",
       "      <td>3.19</td>\n",
       "      <td>3.40</td>\n",
       "      <td>8.0</td>\n",
       "      <td>115</td>\n",
       "      <td>18</td>\n",
       "      <td>22</td>\n",
       "    </tr>\n",
       "  </tbody>\n",
       "</table>\n",
       "</div>"
      ],
      "text/plain": [
       "   car_id  symboling  wheel_base  car_length  car_width  car_height  \\\n",
       "0       1          3        88.6       168.8       64.1        48.8   \n",
       "1       2          3        88.6       168.8       64.1        48.8   \n",
       "2       3          1        94.5       171.2       65.5        52.4   \n",
       "3       4          2        99.8       176.6       66.2        54.3   \n",
       "4       5          2        99.4       176.6       66.4        54.3   \n",
       "\n",
       "   curb_weight  engine_size  bore_ratio  stroke  compression_ratio  \\\n",
       "0         2548          130        3.47    2.68                9.0   \n",
       "1         2548          130        3.47    2.68                9.0   \n",
       "2         2823          152        2.68    3.47                9.0   \n",
       "3         2337          109        3.19    3.40               10.0   \n",
       "4         2824          136        3.19    3.40                8.0   \n",
       "\n",
       "   horse_power  city_mpg  highway_mpg  \n",
       "0          111        21           27  \n",
       "1          111        21           27  \n",
       "2          154        19           26  \n",
       "3          102        24           30  \n",
       "4          115        18           22  "
      ]
     },
     "execution_count": 51,
     "metadata": {},
     "output_type": "execute_result"
    }
   ],
   "source": [
    "numerical_df = df.select_dtypes(include=['int64', 'float64'])\n",
    "\n",
    "numerical_df.head()"
   ]
  },
  {
   "cell_type": "code",
   "execution_count": 52,
   "id": "059a7470",
   "metadata": {},
   "outputs": [
    {
     "name": "stdout",
     "output_type": "stream",
     "text": [
      "10\n",
      "14\n"
     ]
    }
   ],
   "source": [
    "print(len(categorical_df.columns))\n",
    "print(len(numerical_df.columns))"
   ]
  },
  {
   "cell_type": "code",
   "execution_count": 53,
   "id": "58a88cc9",
   "metadata": {},
   "outputs": [
    {
     "name": "stdout",
     "output_type": "stream",
     "text": [
      "26\n"
     ]
    }
   ],
   "source": [
    "print(len(df.columns))"
   ]
  },
  {
   "cell_type": "code",
   "execution_count": 54,
   "id": "04e9bc4e",
   "metadata": {},
   "outputs": [
    {
     "data": {
      "text/plain": [
       "car_id                 int64\n",
       "symboling              int64\n",
       "fuel_type             object\n",
       "aspiration            object\n",
       "door_number            int32\n",
       "car_body              object\n",
       "drive_wheel           object\n",
       "engine_location       object\n",
       "wheel_base           float64\n",
       "car_length           float64\n",
       "car_width            float64\n",
       "car_height           float64\n",
       "curb_weight            int64\n",
       "engine_type           object\n",
       "cylinder_number       object\n",
       "engine_size            int64\n",
       "fuel_system           object\n",
       "bore_ratio           float64\n",
       "stroke               float64\n",
       "compression_ratio    float64\n",
       "horse_power            int64\n",
       "peak_rpm               int32\n",
       "city_mpg               int64\n",
       "highway_mpg            int64\n",
       "price                 object\n",
       "car_company           object\n",
       "dtype: object"
      ]
     },
     "execution_count": 54,
     "metadata": {},
     "output_type": "execute_result"
    }
   ],
   "source": [
    "df.dtypes"
   ]
  },
  {
   "cell_type": "code",
   "execution_count": 55,
   "id": "b5a9e8a5",
   "metadata": {},
   "outputs": [
    {
     "name": "stdout",
     "output_type": "stream",
     "text": [
      "door_number\n",
      "peak_rpm\n"
     ]
    }
   ],
   "source": [
    "for col in df.columns:\n",
    "    if(df[col].dtype == \"int32\"):\n",
    "        print(col)"
   ]
  },
  {
   "cell_type": "code",
   "execution_count": 56,
   "id": "49469989",
   "metadata": {},
   "outputs": [],
   "source": [
    "for col in df.columns:\n",
    "    if(df[col].dtype == \"int32\"):\n",
    "        df[col] = df[col].astype(\"int64\")"
   ]
  },
  {
   "cell_type": "code",
   "execution_count": 57,
   "id": "3d4f7b89",
   "metadata": {},
   "outputs": [
    {
     "name": "stdout",
     "output_type": "stream",
     "text": [
      "<class 'pandas.core.frame.DataFrame'>\n",
      "RangeIndex: 205 entries, 0 to 204\n",
      "Data columns (total 26 columns):\n",
      " #   Column             Non-Null Count  Dtype  \n",
      "---  ------             --------------  -----  \n",
      " 0   car_id             205 non-null    int64  \n",
      " 1   symboling          205 non-null    int64  \n",
      " 2   fuel_type          205 non-null    object \n",
      " 3   aspiration         205 non-null    object \n",
      " 4   door_number        205 non-null    int64  \n",
      " 5   car_body           205 non-null    object \n",
      " 6   drive_wheel        205 non-null    object \n",
      " 7   engine_location    205 non-null    object \n",
      " 8   wheel_base         205 non-null    float64\n",
      " 9   car_length         205 non-null    float64\n",
      " 10  car_width          205 non-null    float64\n",
      " 11  car_height         205 non-null    float64\n",
      " 12  curb_weight        205 non-null    int64  \n",
      " 13  engine_type        205 non-null    object \n",
      " 14  cylinder_number    205 non-null    object \n",
      " 15  engine_size        205 non-null    int64  \n",
      " 16  fuel_system        205 non-null    object \n",
      " 17  bore_ratio         205 non-null    float64\n",
      " 18  stroke             205 non-null    float64\n",
      " 19  compression_ratio  205 non-null    float64\n",
      " 20  horse_power        205 non-null    int64  \n",
      " 21  peak_rpm           205 non-null    int64  \n",
      " 22  city_mpg           205 non-null    int64  \n",
      " 23  highway_mpg        205 non-null    int64  \n",
      " 24  price              205 non-null    object \n",
      " 25  car_company        205 non-null    object \n",
      "dtypes: float64(7), int64(9), object(10)\n",
      "memory usage: 41.8+ KB\n"
     ]
    }
   ],
   "source": [
    "df.info()"
   ]
  },
  {
   "cell_type": "code",
   "execution_count": 58,
   "id": "93b5cd91",
   "metadata": {},
   "outputs": [
    {
     "data": {
      "text/html": [
       "<div>\n",
       "<style scoped>\n",
       "    .dataframe tbody tr th:only-of-type {\n",
       "        vertical-align: middle;\n",
       "    }\n",
       "\n",
       "    .dataframe tbody tr th {\n",
       "        vertical-align: top;\n",
       "    }\n",
       "\n",
       "    .dataframe thead th {\n",
       "        text-align: right;\n",
       "    }\n",
       "</style>\n",
       "<table border=\"1\" class=\"dataframe\">\n",
       "  <thead>\n",
       "    <tr style=\"text-align: right;\">\n",
       "      <th></th>\n",
       "      <th>car_id</th>\n",
       "      <th>symboling</th>\n",
       "      <th>door_number</th>\n",
       "      <th>wheel_base</th>\n",
       "      <th>car_length</th>\n",
       "      <th>car_width</th>\n",
       "      <th>car_height</th>\n",
       "      <th>curb_weight</th>\n",
       "      <th>engine_size</th>\n",
       "      <th>bore_ratio</th>\n",
       "      <th>stroke</th>\n",
       "      <th>compression_ratio</th>\n",
       "      <th>horse_power</th>\n",
       "      <th>peak_rpm</th>\n",
       "      <th>city_mpg</th>\n",
       "      <th>highway_mpg</th>\n",
       "    </tr>\n",
       "  </thead>\n",
       "  <tbody>\n",
       "    <tr>\n",
       "      <th>0</th>\n",
       "      <td>1</td>\n",
       "      <td>3</td>\n",
       "      <td>2</td>\n",
       "      <td>88.6</td>\n",
       "      <td>168.8</td>\n",
       "      <td>64.1</td>\n",
       "      <td>48.8</td>\n",
       "      <td>2548</td>\n",
       "      <td>130</td>\n",
       "      <td>3.47</td>\n",
       "      <td>2.68</td>\n",
       "      <td>9.0</td>\n",
       "      <td>111</td>\n",
       "      <td>5000</td>\n",
       "      <td>21</td>\n",
       "      <td>27</td>\n",
       "    </tr>\n",
       "    <tr>\n",
       "      <th>1</th>\n",
       "      <td>2</td>\n",
       "      <td>3</td>\n",
       "      <td>2</td>\n",
       "      <td>88.6</td>\n",
       "      <td>168.8</td>\n",
       "      <td>64.1</td>\n",
       "      <td>48.8</td>\n",
       "      <td>2548</td>\n",
       "      <td>130</td>\n",
       "      <td>3.47</td>\n",
       "      <td>2.68</td>\n",
       "      <td>9.0</td>\n",
       "      <td>111</td>\n",
       "      <td>5000</td>\n",
       "      <td>21</td>\n",
       "      <td>27</td>\n",
       "    </tr>\n",
       "    <tr>\n",
       "      <th>2</th>\n",
       "      <td>3</td>\n",
       "      <td>1</td>\n",
       "      <td>2</td>\n",
       "      <td>94.5</td>\n",
       "      <td>171.2</td>\n",
       "      <td>65.5</td>\n",
       "      <td>52.4</td>\n",
       "      <td>2823</td>\n",
       "      <td>152</td>\n",
       "      <td>2.68</td>\n",
       "      <td>3.47</td>\n",
       "      <td>9.0</td>\n",
       "      <td>154</td>\n",
       "      <td>5000</td>\n",
       "      <td>19</td>\n",
       "      <td>26</td>\n",
       "    </tr>\n",
       "    <tr>\n",
       "      <th>3</th>\n",
       "      <td>4</td>\n",
       "      <td>2</td>\n",
       "      <td>4</td>\n",
       "      <td>99.8</td>\n",
       "      <td>176.6</td>\n",
       "      <td>66.2</td>\n",
       "      <td>54.3</td>\n",
       "      <td>2337</td>\n",
       "      <td>109</td>\n",
       "      <td>3.19</td>\n",
       "      <td>3.40</td>\n",
       "      <td>10.0</td>\n",
       "      <td>102</td>\n",
       "      <td>5500</td>\n",
       "      <td>24</td>\n",
       "      <td>30</td>\n",
       "    </tr>\n",
       "    <tr>\n",
       "      <th>4</th>\n",
       "      <td>5</td>\n",
       "      <td>2</td>\n",
       "      <td>4</td>\n",
       "      <td>99.4</td>\n",
       "      <td>176.6</td>\n",
       "      <td>66.4</td>\n",
       "      <td>54.3</td>\n",
       "      <td>2824</td>\n",
       "      <td>136</td>\n",
       "      <td>3.19</td>\n",
       "      <td>3.40</td>\n",
       "      <td>8.0</td>\n",
       "      <td>115</td>\n",
       "      <td>5500</td>\n",
       "      <td>18</td>\n",
       "      <td>22</td>\n",
       "    </tr>\n",
       "  </tbody>\n",
       "</table>\n",
       "</div>"
      ],
      "text/plain": [
       "   car_id  symboling  door_number  wheel_base  car_length  car_width  \\\n",
       "0       1          3            2        88.6       168.8       64.1   \n",
       "1       2          3            2        88.6       168.8       64.1   \n",
       "2       3          1            2        94.5       171.2       65.5   \n",
       "3       4          2            4        99.8       176.6       66.2   \n",
       "4       5          2            4        99.4       176.6       66.4   \n",
       "\n",
       "   car_height  curb_weight  engine_size  bore_ratio  stroke  \\\n",
       "0        48.8         2548          130        3.47    2.68   \n",
       "1        48.8         2548          130        3.47    2.68   \n",
       "2        52.4         2823          152        2.68    3.47   \n",
       "3        54.3         2337          109        3.19    3.40   \n",
       "4        54.3         2824          136        3.19    3.40   \n",
       "\n",
       "   compression_ratio  horse_power  peak_rpm  city_mpg  highway_mpg  \n",
       "0                9.0          111      5000        21           27  \n",
       "1                9.0          111      5000        21           27  \n",
       "2                9.0          154      5000        19           26  \n",
       "3               10.0          102      5500        24           30  \n",
       "4                8.0          115      5500        18           22  "
      ]
     },
     "execution_count": 58,
     "metadata": {},
     "output_type": "execute_result"
    }
   ],
   "source": [
    "numerical_df = df.select_dtypes(include=['int64', 'float64'])\n",
    "\n",
    "numerical_df.head()"
   ]
  },
  {
   "cell_type": "markdown",
   "id": "e15f9d51",
   "metadata": {},
   "source": [
    "### Can you fix the Price Column?"
   ]
  },
  {
   "cell_type": "code",
   "execution_count": 59,
   "id": "946cb4a1",
   "metadata": {},
   "outputs": [
    {
     "name": "stdout",
     "output_type": "stream",
     "text": [
      "<class 'pandas.core.frame.DataFrame'>\n",
      "RangeIndex: 205 entries, 0 to 204\n",
      "Data columns (total 26 columns):\n",
      " #   Column             Non-Null Count  Dtype  \n",
      "---  ------             --------------  -----  \n",
      " 0   car_id             205 non-null    int64  \n",
      " 1   symboling          205 non-null    int64  \n",
      " 2   fuel_type          205 non-null    object \n",
      " 3   aspiration         205 non-null    object \n",
      " 4   door_number        205 non-null    int64  \n",
      " 5   car_body           205 non-null    object \n",
      " 6   drive_wheel        205 non-null    object \n",
      " 7   engine_location    205 non-null    object \n",
      " 8   wheel_base         205 non-null    float64\n",
      " 9   car_length         205 non-null    float64\n",
      " 10  car_width          205 non-null    float64\n",
      " 11  car_height         205 non-null    float64\n",
      " 12  curb_weight        205 non-null    int64  \n",
      " 13  engine_type        205 non-null    object \n",
      " 14  cylinder_number    205 non-null    object \n",
      " 15  engine_size        205 non-null    int64  \n",
      " 16  fuel_system        205 non-null    object \n",
      " 17  bore_ratio         205 non-null    float64\n",
      " 18  stroke             205 non-null    float64\n",
      " 19  compression_ratio  205 non-null    float64\n",
      " 20  horse_power        205 non-null    int64  \n",
      " 21  peak_rpm           205 non-null    int64  \n",
      " 22  city_mpg           205 non-null    int64  \n",
      " 23  highway_mpg        205 non-null    int64  \n",
      " 24  price              205 non-null    object \n",
      " 25  car_company        205 non-null    object \n",
      "dtypes: float64(7), int64(9), object(10)\n",
      "memory usage: 41.8+ KB\n"
     ]
    }
   ],
   "source": [
    "df.info()"
   ]
  },
  {
   "cell_type": "markdown",
   "id": "14c7fe11",
   "metadata": {},
   "source": [
    "#####  https://github.com/bansalkanav/Machine_Learning_and_Deep_Learning/blob/master/Module%202%20-%20Python%20for%20Data%20Analysis/05.%20Case%20Study%20-%20Pandas%20Manipulation/Case_Study_Pandas_DataFrame_Manipulations.ipynb"
   ]
  },
  {
   "cell_type": "code",
   "execution_count": null,
   "id": "1d58fb62",
   "metadata": {},
   "outputs": [],
   "source": []
  },
  {
   "cell_type": "code",
   "execution_count": null,
   "id": "1e12d853",
   "metadata": {},
   "outputs": [],
   "source": []
  },
  {
   "cell_type": "code",
   "execution_count": null,
   "id": "b93107a2",
   "metadata": {},
   "outputs": [],
   "source": []
  }
 ],
 "metadata": {
  "kernelspec": {
   "display_name": "Python 3 (ipykernel)",
   "language": "python",
   "name": "python3"
  },
  "language_info": {
   "codemirror_mode": {
    "name": "ipython",
    "version": 3
   },
   "file_extension": ".py",
   "mimetype": "text/x-python",
   "name": "python",
   "nbconvert_exporter": "python",
   "pygments_lexer": "ipython3",
   "version": "3.9.12"
  }
 },
 "nbformat": 4,
 "nbformat_minor": 5
}
